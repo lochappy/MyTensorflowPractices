{
 "cells": [
  {
   "cell_type": "markdown",
   "metadata": {},
   "source": [
    "# LeNet Lab\n",
    "![LeNet Architecture](lenet.png)\n",
    "Source: Yan LeCun"
   ]
  },
  {
   "cell_type": "code",
   "execution_count": 1,
   "metadata": {},
   "outputs": [
    {
     "name": "stdout",
     "output_type": "stream",
     "text": [
      "Couldn't import dot_parser, loading of dot files will not be possible.\n"
     ]
    }
   ],
   "source": [
    "import tripletLoss"
   ]
  },
  {
   "cell_type": "markdown",
   "metadata": {},
   "source": [
    "## Load Data\n",
    "\n",
    "Load the MNIST data, which comes pre-loaded with TensorFlow.\n",
    "\n",
    "You do not need to modify this section."
   ]
  },
  {
   "cell_type": "code",
   "execution_count": 2,
   "metadata": {},
   "outputs": [
    {
     "name": "stdout",
     "output_type": "stream",
     "text": [
      "Extracting ../data/MNIST_data/train-images-idx3-ubyte.gz\n",
      "Extracting ../data/MNIST_data/train-labels-idx1-ubyte.gz\n",
      "Extracting ../data/MNIST_data/t10k-images-idx3-ubyte.gz\n",
      "Extracting ../data/MNIST_data/t10k-labels-idx1-ubyte.gz\n",
      "()\n",
      "Image Shape: (28, 28, 1)\n",
      "()\n",
      "Training Set:   55000 samples\n",
      "Validation Set: 5000 samples\n",
      "Test Set:       10000 samples\n"
     ]
    }
   ],
   "source": [
    "from tensorflow.examples.tutorials.mnist import input_data\n",
    "\n",
    "mnist = input_data.read_data_sets(\"../data/MNIST_data/\", reshape=False)\n",
    "X_train, y_train           = mnist.train.images, mnist.train.labels\n",
    "X_validation, y_validation = mnist.validation.images, mnist.validation.labels\n",
    "X_test, y_test             = mnist.test.images, mnist.test.labels\n",
    "\n",
    "assert(len(X_train) == len(y_train))\n",
    "assert(len(X_validation) == len(y_validation))\n",
    "assert(len(X_test) == len(y_test))\n",
    "\n",
    "print()\n",
    "print(\"Image Shape: {}\".format(X_train[0].shape))\n",
    "print()\n",
    "print(\"Training Set:   {} samples\".format(len(X_train)))\n",
    "print(\"Validation Set: {} samples\".format(len(X_validation)))\n",
    "print(\"Test Set:       {} samples\".format(len(X_test)))"
   ]
  },
  {
   "cell_type": "markdown",
   "metadata": {},
   "source": [
    "The MNIST data that TensorFlow pre-loads comes as 28x28x1 images.\n",
    "\n",
    "However, the LeNet architecture only accepts 32x32xC images, where C is the number of color channels.\n",
    "\n",
    "In order to reformat the MNIST data into a shape that LeNet will accept, we pad the data with two rows of zeros on the top and bottom, and two columns of zeros on the left and right (28+2+2 = 32).\n",
    "\n",
    "You do not need to modify this section."
   ]
  },
  {
   "cell_type": "code",
   "execution_count": 3,
   "metadata": {},
   "outputs": [
    {
     "name": "stdout",
     "output_type": "stream",
     "text": [
      "Updated Image Shape: (32, 32, 1)\n"
     ]
    }
   ],
   "source": [
    "import numpy as np\n",
    "\n",
    "# Pad images with 0s\n",
    "X_train      = np.pad(X_train, ((0,0),(2,2),(2,2),(0,0)), 'constant')\n",
    "X_validation = np.pad(X_validation, ((0,0),(2,2),(2,2),(0,0)), 'constant')\n",
    "X_test       = np.pad(X_test, ((0,0),(2,2),(2,2),(0,0)), 'constant')\n",
    "    \n",
    "print(\"Updated Image Shape: {}\".format(X_train[0].shape))"
   ]
  },
  {
   "cell_type": "markdown",
   "metadata": {},
   "source": [
    "## Visualize Data\n",
    "\n",
    "View a sample from the dataset.\n",
    "\n",
    "You do not need to modify this section."
   ]
  },
  {
   "cell_type": "code",
   "execution_count": 4,
   "metadata": {},
   "outputs": [
    {
     "name": "stdout",
     "output_type": "stream",
     "text": [
      "7\n"
     ]
    },
    {
     "data": {
      "image/png": "[encoded data removed]",
      "text/plain": [
       "<matplotlib.figure.Figure at 0x7f7367a3fcd0>"
      ]
     },
     "metadata": {},
     "output_type": "display_data"
    }
   ],
   "source": [
    "import random\n",
    "import numpy as np\n",
    "import matplotlib.pyplot as plt\n",
    "%matplotlib inline\n",
    "\n",
    "index = random.randint(0, len(X_train))\n",
    "image = X_train[index].squeeze()\n",
    "\n",
    "plt.figure(figsize=(1,1))\n",
    "plt.imshow(image, cmap=\"gray\")\n",
    "print(y_train[index])"
   ]
  },
  {
   "cell_type": "markdown",
   "metadata": {},
   "source": [
    "## Preprocess Data\n",
    "\n",
    "Shuffle the training data.\n",
    "\n",
    "You do not need to modify this section."
   ]
  },
  {
   "cell_type": "code",
   "execution_count": 5,
   "metadata": {
    "collapsed": true
   },
   "outputs": [],
   "source": [
    "from sklearn.utils import shuffle\n",
    "\n",
    "X_train, y_train = shuffle(X_train, y_train)"
   ]
  },
  {
   "cell_type": "markdown",
   "metadata": {},
   "source": [
    "## Setup TensorFlow\n",
    "The `EPOCH` and `BATCH_SIZE` values affect the training speed and model accuracy.\n",
    "\n",
    "You do not need to modify this section."
   ]
  },
  {
   "cell_type": "code",
   "execution_count": 6,
   "metadata": {
    "collapsed": true
   },
   "outputs": [],
   "source": [
    "import tensorflow as tf"
   ]
  },
  {
   "cell_type": "markdown",
   "metadata": {},
   "source": [
    "## TODO: Implement LeNet-5\n",
    "Implement the [LeNet-5](http://yann.lecun.com/exdb/lenet/) neural network architecture.\n",
    "\n",
    "This is the only cell you need to edit.\n",
    "### Input\n",
    "The LeNet architecture accepts a 32x32xC image as input, where C is the number of color channels. Since MNIST images are grayscale, C is 1 in this case.\n",
    "\n",
    "### Architecture\n",
    "**Layer 1: Convolutional.** The output shape should be 28x28x6.\n",
    "\n",
    "**Activation.** Your choice of activation function.\n",
    "\n",
    "**Pooling.** The output shape should be 14x14x6.\n",
    "\n",
    "**Layer 2: Convolutional.** The output shape should be 10x10x16.\n",
    "\n",
    "**Activation.** Your choice of activation function.\n",
    "\n",
    "**Pooling.** The output shape should be 5x5x16.\n",
    "\n",
    "**Flatten.** Flatten the output shape of the final pooling layer such that it's 1D instead of 3D. The easiest way to do is by using `tf.contrib.layers.flatten`, which is already imported for you.\n",
    "\n",
    "**Layer 3: Fully Connected.** This should have 120 outputs.\n",
    "\n",
    "**Activation.** Your choice of activation function.\n",
    "\n",
    "**Layer 4: Fully Connected.** This should have 84 outputs.\n",
    "\n",
    "**Activation.** Your choice of activation function.\n",
    "\n",
    "**Layer 5: Fully Connected (Logits).** This should have 10 outputs.\n",
    "\n",
    "### Output\n",
    "Return the result of the 2nd fully connected layer."
   ]
  },
  {
   "cell_type": "code",
   "execution_count": 7,
   "metadata": {
    "collapsed": true
   },
   "outputs": [],
   "source": [
    "def LeNetFeature(x):    \n",
    "    # Arguments used for tf.truncated_normal, randomly defines variables for the weights and biases for each layer\n",
    "    mu = 0\n",
    "    sigma = 0.1\n",
    "    \n",
    "    logits = x\n",
    "    # TODO: Layer 1: Convolutional. Input = 32x32x1. Output = 28x28x6.\n",
    "    with tf.name_scope('conv1'):\n",
    "        w = tf.Variable(initial_value=tf.truncated_normal([5,5,1,6],mean=mu,stddev=sigma),name='w')\n",
    "        b = tf.Variable(initial_value=tf.zeros([6]),name='b')\n",
    "        logits = tf.add(tf.nn.conv2d(logits,filter=w,strides=[1,1,1,1],padding='VALID',name='conv'),b,name='add')\n",
    "\n",
    "        # TODO: Activation.\n",
    "        logits = tf.nn.relu(logits,name='relu')\n",
    "\n",
    "        # TODO: Pooling. Input = 28x28x6. Output = 14x14x6.\n",
    "        logits = tf.nn.max_pool(logits,ksize=[1,2,2,1],strides=[1,2,2,1],padding='SAME',name='pool')\n",
    "\n",
    "    # TODO: Layer 2: Convolutional. Output = 10x10x16.\n",
    "    with tf.name_scope('conv2'):\n",
    "        w = tf.Variable(initial_value=tf.truncated_normal([5,5,6,16],mean=mu,stddev=sigma),name='w')\n",
    "        b = tf.Variable(initial_value=tf.zeros([16]))\n",
    "        logits = tf.add(tf.nn.conv2d(logits,filter=w,strides=[1,1,1,1],padding='VALID',name='conv'),b,name='add')\n",
    "\n",
    "        # TODO: Activation.\n",
    "        logits = tf.nn.relu(logits,name='relu')\n",
    "\n",
    "        # TODO: Pooling. Input = 10x10x16. Output = 5x5x16.\n",
    "        logits = tf.nn.max_pool(logits,ksize=[1,2,2,1],strides=[1,2,2,1],padding='SAME',name='pool')\n",
    "\n",
    "    # TODO: Flatten. Input = 5x5x16. Output = 400.\n",
    "    logits = tf.reshape(logits,shape=[-1,400],name='reshape')\n",
    "    \n",
    "    # TODO: Layer 3: Fully Connected. Input = 400. Output = 120.\n",
    "    with tf.name_scope('fc1'):\n",
    "        w = tf.Variable(initial_value=tf.truncated_normal([400,120],mean=mu,stddev=sigma),name='w')\n",
    "        b = tf.Variable(initial_value=tf.zeros([120]),name='b')\n",
    "        logits = tf.add(tf.matmul(logits,w,name='mul'),b,name='add')\n",
    "    \n",
    "        # TODO: Activation.\n",
    "        logits = tf.nn.relu(logits,name='relu')\n",
    "\n",
    "    # TODO: Layer 4: Fully Connected. Input = 120. Output = 84.\n",
    "    with tf.name_scope('fc2'):\n",
    "        w = tf.Variable(initial_value=tf.truncated_normal([120,84],mean=mu,stddev=sigma),name='w')\n",
    "        b = tf.Variable(initial_value=tf.zeros([84]),name='b')\n",
    "        logits = tf.add(tf.matmul(logits,w,name='mul'),b,name='add')\n",
    "    \n",
    "        # TODO: Activation.\n",
    "        #logits = tf.nn.relu(logits,name='relu')\n",
    "        \n",
    "    return logits"
   ]
  },
  {
   "cell_type": "code",
   "execution_count": 8,
   "metadata": {
    "collapsed": true
   },
   "outputs": [],
   "source": [
    "def cross_entropy(x,label,name='cross_entropy'):\n",
    "    with tf.name_scope(name):\n",
    "        logits = tf.log(x,name='log')\n",
    "        logits = -tf.reduce_sum(tf.multiply(label,logits,name='mul'),axis=1,name='sum')\n",
    "    return logits"
   ]
  },
  {
   "cell_type": "code",
   "execution_count": 9,
   "metadata": {
    "collapsed": true
   },
   "outputs": [],
   "source": [
    "def add_addictive_margin(embeddingFeature,one_hot_label,scale=30.,margin=-0.35,name=\"add_addictive_margin\"):\n",
    "    '''\n",
    "        Adds margin to the embedding feature at the ground truth label if the score is less than margin.\n",
    "        Then scales up the whole embedding feature by scale s\n",
    "        The returned added_embeddingFeature is the fed to softmax to form the AM softmax\n",
    "    '''\n",
    "    with tf.name_scope(name):\n",
    "        batch_range = tf.reshape(tf.range(tf.shape(embeddingFeature)[0]),shape=(-1,1))\n",
    "        indices_of_groundtruth = tf.concat([batch_range, tf.reshape(y,shape=(-1,1))], axis=1)\n",
    "        groundtruth_score = tf.gather_nd(embeddingFeature,indices_of_groundtruth)\n",
    "\n",
    "        m = tf.constant(margin,name='m')\n",
    "        s = tf.constant(scale,name='s')\n",
    "        \n",
    "        added_margin = tf.cast(tf.greater(groundtruth_score,-m),dtype=tf.float32)*m\n",
    "        added_margin = tf.reshape(added_margin,shape=(-1,1))\n",
    "        added_embeddingFeature = tf.add(embeddingFeature,one_hot_label*added_margin)*s\n",
    "    return added_embeddingFeature"
   ]
  },
  {
   "cell_type": "code",
   "execution_count": 10,
   "metadata": {
    "collapsed": true
   },
   "outputs": [],
   "source": [
    "def add_cosine_addictive_margin(embeddingFeature,one_hot_label,scale=64., \\\n",
    "                                theta_margin=0.5,m_margin=0.0,name=\"add_cosine_addictive_margin\"):\n",
    "    '''\n",
    "        Adds theta margin to the embedding feature at the ground truth label.\n",
    "        Then scales up the whole embedding feature by scale s\n",
    "        The returned added_embeddingFeature is the fed to softmax to form the ArcFace softmax\n",
    "    '''\n",
    "    with tf.name_scope(name):\n",
    "        batch_range = tf.reshape(tf.range(tf.shape(embeddingFeature)[0]),shape=(-1,1))\n",
    "        indices_of_groundtruth = tf.concat([batch_range, tf.reshape(y,shape=(-1,1))], axis=1)\n",
    "        \n",
    "        cos_t = tf.gather_nd(embeddingFeature,indices_of_groundtruth,name='cos_t')\n",
    "        #sin_t = tf.sqrt(tf.subtract(1., tf.square(cos_t,name='squared_cos_t'),name='squared_sin_t'),name='sin_t')\n",
    "        sin_t = tf.sin(tf.acos(cos_t),name='sin_t')\n",
    "\n",
    "        cos_m = tf.constant(np.cos(theta_margin),name='cos_m',dtype=tf.float32)\n",
    "        sin_m = tf.constant(np.sin(theta_margin),name='sin_m',dtype=tf.float32)\n",
    "\n",
    "        tmp_new_cos_t = tf.subtract(tf.multiply(cos_t,cos_m,name='Cos_tCos_m'), \\\n",
    "                             tf.multiply(sin_t,sin_m,name='Sin_tSin_m'), name = 'Cos_tCos_m-Sin_tSin_m')\n",
    "        \n",
    "        threshold = tf.constant(np.cos(np.pi - theta_margin),name='threshold',dtype=tf.float32)\n",
    "        cond = tf.greater(cos_t,threshold,name='cond')\n",
    "        \n",
    "        mm = tf.constant(np.sin(np.pi - theta_margin)*theta_margin,name='mm',dtype=tf.float32)\n",
    "        cost_t_keep = tf.subtract(cos_t,mm,name='cost_t_keep')\n",
    "        \n",
    "        new_cos_t = tf.where(cond, tmp_new_cos_t, cost_t_keep,name='new_cos_t')\n",
    "        cos_t_diff = tf.reshape(tf.subtract(new_cos_t,cos_t),shape=(-1,1),name='cos_t_diff')\n",
    "        \n",
    "        added_embeddingFeature = tf.add(embeddingFeature,one_hot_label*cos_t_diff)\n",
    "        \n",
    "        if m_margin != 0:\n",
    "            m = tf.constant(m_margin,name='m')\n",
    "            added_margin = tf.cast(tf.greater(new_cos_t,-m),dtype=tf.float32)*m\n",
    "            added_margin = tf.reshape(added_margin,shape=(-1,1))\n",
    "            added_embeddingFeature = tf.add(embeddingFeature,one_hot_label*added_margin)\n",
    "            \n",
    "        s = tf.constant(scale,name='s')\n",
    "        added_embeddingFeature = added_embeddingFeature*s\n",
    "        \n",
    "    return added_embeddingFeature\n"
   ]
  },
  {
   "cell_type": "markdown",
   "metadata": {},
   "source": [
    "## Features and Labels\n",
    "Train LeNet to classify [MNIST](http://yann.lecun.com/exdb/mnist/) data.\n",
    "\n",
    "`x` is a placeholder for a batch of input images.\n",
    "`y` is a placeholder for a batch of output labels.\n",
    "\n",
    "You do not need to modify this section."
   ]
  },
  {
   "cell_type": "code",
   "execution_count": 11,
   "metadata": {
    "collapsed": true
   },
   "outputs": [],
   "source": [
    "x = tf.placeholder(tf.float32, (None, 32, 32, 1))\n",
    "y = tf.placeholder(tf.int32, (None))\n",
    "one_hot_y = tf.one_hot(y, 10)"
   ]
  },
  {
   "cell_type": "code",
   "execution_count": 12,
   "metadata": {},
   "outputs": [],
   "source": [
    "feature = LeNetFeature(x)\n",
    "l2norm_feature = tf.nn.l2_normalize(feature,axis=1,name=\"l2norm_feature\")\n",
    "\n",
    "# with tf.Session() as sess:\n",
    "#     sess.run(tf.global_variables_initializer())\n",
    "#     l2norm_feature_val= \\\n",
    "#     sess.run(l2norm_feature,feed_dict={x:X_train[0:3],y:y_train[0:3]})\n",
    "# print np.sum(l2norm_feature_val[0,:]**2)"
   ]
  },
  {
   "cell_type": "code",
   "execution_count": 13,
   "metadata": {},
   "outputs": [],
   "source": [
    "#add triplet loss\n",
    "triplet_loss = tripletLoss.tripletLoss(embeddingFeature=l2norm_feature,label=y,margin=1.0)"
   ]
  },
  {
   "cell_type": "code",
   "execution_count": 14,
   "metadata": {
    "collapsed": true
   },
   "outputs": [],
   "source": [
    "with tf.name_scope('embeding_space'):\n",
    "    weight = tf.Variable(initial_value=tf.truncated_normal([84,10],mean=0.,stddev=0.1),name='w')\n",
    "    l2norm_weight = tf.nn.l2_normalize(weight,axis=0,name=\"l2norm_embedding_space\")\n",
    "    \n",
    "# with tf.Session() as sess:\n",
    "#     sess.run(tf.global_variables_initializer())\n",
    "#     l2norm_weight_val= \\\n",
    "#     sess.run(l2norm_weight,feed_dict={x:X_train[0:3],y:y_train[0:3]})\n",
    "# print np.sum(l2norm_weight_val[:,0]**2)"
   ]
  },
  {
   "cell_type": "code",
   "execution_count": 15,
   "metadata": {
    "collapsed": true
   },
   "outputs": [],
   "source": [
    "embedding_feature = tf.matmul(l2norm_feature,l2norm_weight,name='embedding_feature')"
   ]
  },
  {
   "cell_type": "code",
   "execution_count": 16,
   "metadata": {
    "collapsed": true
   },
   "outputs": [],
   "source": [
    "addictive_embedding_feature = add_addictive_margin(embedding_feature,one_hot_y, \\\n",
    "                                                   scale=64.,margin=-0.4,name=\"add_addictive_margin\")\n",
    "# with tf.Session() as sess:\n",
    "#     sess.run(tf.global_variables_initializer())\n",
    "#     embeddingFeature_val, l2norm_embeddingFeature_val = \\\n",
    "#     sess.run([embeddingFeature,l2norm_embeddingFeature],feed_dict={x:X_train[0:3],y:y_train[0:3]})\n",
    "# print embeddingFeature_val.shape\n",
    "# print()\n",
    "# print l2norm_embeddingFeature_val.shape\n",
    "# print()"
   ]
  },
  {
   "cell_type": "code",
   "execution_count": 17,
   "metadata": {
    "collapsed": true
   },
   "outputs": [],
   "source": [
    "cosine_addictive_embedding_feature = add_cosine_addictive_margin(embedding_feature,one_hot_y, \\\n",
    "                                                   scale=64.,theta_margin=0.5,m_margin=0)\n",
    "\n",
    "# with tf.Session() as sess:\n",
    "#     sess.run(tf.global_variables_initializer())\n",
    "#     embedding_feature_val, cosine_addictive_embedding_feature_val= \\\n",
    "#     sess.run([embedding_feature,cosine_addictive_embedding_feature],feed_dict={x:X_train[0:3],y:y_train[0:3]})\n",
    "# print embedding_feature_val\n",
    "# print()\n",
    "# print cosine_addictive_embedding_feature_val\n",
    "# print()\n",
    "# print embedding_feature_val - cosine_addictive_embedding_feature_val"
   ]
  },
  {
   "cell_type": "markdown",
   "metadata": {},
   "source": [
    "## Training Pipeline\n",
    "Create a training pipeline that uses the model to classify MNIST data.\n",
    "\n",
    "You do not need to modify this section."
   ]
  },
  {
   "cell_type": "code",
   "execution_count": 18,
   "metadata": {},
   "outputs": [
    {
     "name": "stdout",
     "output_type": "stream",
     "text": [
      "conv1/w\n",
      "conv2/w\n",
      "fc1/w\n",
      "fc2/w\n",
      "embeding_space/w\n"
     ]
    }
   ],
   "source": [
    "#collect the trainable variables\n",
    "trainable_variables = tf.trainable_variables()\n",
    "trainable_weights = []\n",
    "for trainable_variable in trainable_variables:\n",
    "    if '/w' in trainable_variable.op.name:\n",
    "        trainable_weights.append(trainable_variable)\n",
    "        \n",
    "for w in trainable_weights:\n",
    "    print w.op.name"
   ]
  },
  {
   "cell_type": "code",
   "execution_count": 19,
   "metadata": {},
   "outputs": [],
   "source": [
    "#define loss\n",
    "cross_ent_am = tf.nn.softmax_cross_entropy_with_logits_v2(labels=one_hot_y, logits=addictive_embedding_feature)\n",
    "cross_ent_arcface = tf.nn.softmax_cross_entropy_with_logits_v2(labels=one_hot_y, logits=cosine_addictive_embedding_feature)\n",
    "loss_operation = tf.reduce_mean(cross_ent_am) + tf.reduce_mean(cross_ent_arcface) + triplet_loss\n",
    "\n",
    "#add l2 regulizer\n",
    "for w in trainable_weights:\n",
    "    loss_operation = loss_operation + 0.01*tf.nn.l2_loss(w)"
   ]
  },
  {
   "cell_type": "code",
   "execution_count": 20,
   "metadata": {
    "collapsed": true
   },
   "outputs": [],
   "source": [
    "EPOCHS = 20\n",
    "BATCH_SIZE = 128\n",
    "\n",
    "initial_lr = 0.01\n",
    "decay_steps = len(X_train)/BATCH_SIZE*15\n",
    "decay_rate = 1./10.\n",
    "global_step = tf.Variable(0,trainable=False)\n",
    "\n",
    "learning_rate = tf.train.exponential_decay(learning_rate=initial_lr,global_step=global_step, \\\n",
    "                                           decay_rate=decay_rate,decay_steps=decay_steps)"
   ]
  },
  {
   "cell_type": "code",
   "execution_count": 21,
   "metadata": {},
   "outputs": [
    {
     "name": "stderr",
     "output_type": "stream",
     "text": [
      "/usr/local/lib/python2.7/dist-packages/tensorflow/python/ops/gradients_impl.py:98: UserWarning: Converting sparse IndexedSlices to a dense Tensor of unknown shape. This may consume a large amount of memory.\n",
      "  \"Converting sparse IndexedSlices to a dense Tensor of unknown shape. \"\n"
     ]
    }
   ],
   "source": [
    "optimizer = tf.train.AdamOptimizer(learning_rate = learning_rate)\n",
    "#optimizer = tf.train.MomentumOptimizer(learning_rate = learning_rate,momentum=0.9)\n",
    "training_operation = optimizer.minimize(loss_operation,global_step=global_step)"
   ]
  },
  {
   "cell_type": "markdown",
   "metadata": {},
   "source": [
    "## Model Evaluation\n",
    "Evaluate how well the loss and accuracy of the model for a given dataset.\n",
    "\n",
    "You do not need to modify this section."
   ]
  },
  {
   "cell_type": "code",
   "execution_count": null,
   "metadata": {
    "collapsed": true
   },
   "outputs": [],
   "source": [
    "correct_prediction = tf.equal(tf.argmax(tf.nn.softmax(embedding_feature), 1), tf.argmax(one_hot_y, 1))\n",
    "accuracy_operation = tf.reduce_mean(tf.cast(correct_prediction, tf.float32))\n",
    "saver = tf.train.Saver()\n",
    "\n",
    "def evaluate(X_data, y_data):\n",
    "    num_examples = len(X_data)\n",
    "    total_accuracy = 0\n",
    "    sess = tf.get_default_session()\n",
    "    for offset in range(0, num_examples, BATCH_SIZE):\n",
    "        batch_x, batch_y = X_data[offset:offset+BATCH_SIZE], y_data[offset:offset+BATCH_SIZE]\n",
    "        accuracy = sess.run(accuracy_operation, feed_dict={x: batch_x, y: batch_y})\n",
    "        total_accuracy += (accuracy * len(batch_x))\n",
    "    return total_accuracy / num_examples"
   ]
  },
  {
   "cell_type": "markdown",
   "metadata": {},
   "source": [
    "## Train the Model\n",
    "Run the training data through the training pipeline to train the model.\n",
    "\n",
    "Before each epoch, shuffle the training set.\n",
    "\n",
    "After each epoch, measure the loss and accuracy of the validation set.\n",
    "\n",
    "Save the model after training.\n",
    "\n",
    "You do not need to modify this section."
   ]
  },
  {
   "cell_type": "code",
   "execution_count": null,
   "metadata": {},
   "outputs": [
    {
     "name": "stdout",
     "output_type": "stream",
     "text": [
      "Training...\n",
      "EPOCH 1, lr=0.008577 : train_loss=123.054, triplet_loss=111.832, Validation Accuracy = 0.984**Model Saved**\n",
      "EPOCH 2, lr=0.007354 : train_loss=54.126, triplet_loss=44.143, Validation Accuracy = 0.986**Model Saved**\n",
      "EPOCH 3, lr=0.006305 : train_loss=42.703, triplet_loss=32.072, Validation Accuracy = 0.987**Model Saved**\n",
      "EPOCH 4, lr=0.005406 : train_loss=35.327, triplet_loss=24.452, Validation Accuracy = 0.987**Model Saved**\n",
      "EPOCH 5, lr=0.004635 : train_loss=32.147, triplet_loss=21.224, Validation Accuracy = 0.988**Model Saved**\n",
      "EPOCH 6, lr=0.003974 : train_loss=27.218, triplet_loss=16.462, Validation Accuracy = 0.989**Model Saved**\n"
     ]
    }
   ],
   "source": [
    "with tf.Session() as sess:\n",
    "    sess.run(tf.global_variables_initializer())\n",
    "    num_examples = len(X_train)\n",
    "    \n",
    "    print(\"Training...\")\n",
    "    max_validation_accuracy = 0\n",
    "    for i in range(EPOCHS):\n",
    "        X_train, y_train = shuffle(X_train, y_train)\n",
    "        total_loss = 0\n",
    "        total_triplet_loss = 0\n",
    "        for offset in range(0, num_examples, BATCH_SIZE):\n",
    "            end = offset + BATCH_SIZE\n",
    "            if end > len(y_train):\n",
    "                batch_x, batch_y = X_train[offset:], y_train[offset:]\n",
    "            else:\n",
    "                batch_x, batch_y = X_train[offset:end], y_train[offset:end]\n",
    "            _, loss_val, curr_lr ,triplet_loss_val= sess.run([training_operation,loss_operation, learning_rate,triplet_loss], \\\n",
    "                                            feed_dict={x: batch_x, y: batch_y})\n",
    "            total_loss += loss_val*len(batch_y)\n",
    "            total_triplet_loss += triplet_loss_val*len(batch_y)\n",
    "        total_loss = total_loss/len(y_train)\n",
    "        total_triplet_loss = total_triplet_loss/len(y_train)\n",
    "        \n",
    "        validation_accuracy = evaluate(X_validation, y_validation)\n",
    "        #save the model with the best accuracy in validation set\n",
    "        if validation_accuracy > max_validation_accuracy:\n",
    "            saver.save(sess, './lenet')\n",
    "            max_validation_accuracy = validation_accuracy\n",
    "            print(\"EPOCH {}, lr={:.6f} : train_loss={:.3f}, triplet_loss={:.3f}, Validation Accuracy = {:.3f}**Model Saved**\".format(i+1,curr_lr,total_loss,total_triplet_loss,validation_accuracy))\n",
    "        else:\n",
    "            print(\"EPOCH {}, lr={:.6f} : train_loss={:.3f}, triplet_loss={:.3f}, Validation Accuracy = {:.3f}\".format(i+1,curr_lr,total_loss,total_triplet_loss,validation_accuracy))\n",
    "    print(\"Training was done.\")"
   ]
  },
  {
   "cell_type": "code",
   "execution_count": null,
   "metadata": {
    "collapsed": true
   },
   "outputs": [],
   "source": [
    "Training...hard_batch_loc triplet margin=.5\n",
    "EPOCH 1, lr=0.008577 : train_loss=37.883, triplet_loss=28.486, Validation Accuracy = 0.984**Model Saved**\n",
    "EPOCH 2, lr=0.007354 : train_loss=15.775, triplet_loss=9.340, Validation Accuracy = 0.987**Model Saved**\n",
    "EPOCH 3, lr=0.006305 : train_loss=12.932, triplet_loss=6.840, Validation Accuracy = 0.986\n",
    "EPOCH 4, lr=0.005406 : train_loss=11.577, triplet_loss=5.600, Validation Accuracy = 0.988**Model Saved**\n",
    "EPOCH 5, lr=0.004635 : train_loss=9.607, triplet_loss=4.089, Validation Accuracy = 0.990**Model Saved**\n",
    "EPOCH 6, lr=0.003974 : train_loss=8.526, triplet_loss=3.373, Validation Accuracy = 0.988\n",
    "EPOCH 7, lr=0.003407 : train_loss=7.613, triplet_loss=2.844, Validation Accuracy = 0.989\n",
    "EPOCH 8, lr=0.002921 : train_loss=6.941, triplet_loss=2.492, Validation Accuracy = 0.992**Model Saved**\n",
    "EPOCH 9, lr=0.002505 : train_loss=6.579, triplet_loss=2.385, Validation Accuracy = 0.989\n",
    "EPOCH 10, lr=0.002148 : train_loss=5.905, triplet_loss=1.975, Validation Accuracy = 0.988\n",
    "EPOCH 11, lr=0.001841 : train_loss=5.468, triplet_loss=1.759, Validation Accuracy = 0.989\n",
    "EPOCH 12, lr=0.001579 : train_loss=4.775, triplet_loss=1.358, Validation Accuracy = 0.993**Model Saved**\n",
    "EPOCH 13, lr=0.001354 : train_loss=4.350, triplet_loss=1.186, Validation Accuracy = 0.990\n",
    "EPOCH 14, lr=0.001161 : train_loss=3.860, triplet_loss=0.945, Validation Accuracy = 0.993**Model Saved**\n",
    "EPOCH 15, lr=0.000995 : train_loss=3.622, triplet_loss=0.889, Validation Accuracy = 0.993\n",
    "EPOCH 16, lr=0.000853 : train_loss=3.277, triplet_loss=0.754, Validation Accuracy = 0.992\n",
    "EPOCH 17, lr=0.000731 : train_loss=3.198, triplet_loss=0.797, Validation Accuracy = 0.992\n",
    "EPOCH 18, lr=0.000627 : train_loss=3.026, triplet_loss=0.735, Validation Accuracy = 0.992\n",
    "EPOCH 19, lr=0.000538 : train_loss=2.836, triplet_loss=0.670, Validation Accuracy = 0.991\n",
    "EPOCH 20, lr=0.000461 : train_loss=2.670, triplet_loss=0.612, Validation Accuracy = 0.992\n",
    "Training was done.\n",
    "====================================\n",
    "Training...triplet margin=1.\n",
    "EPOCH 1, lr=0.008577 : train_loss=12.951, triplet_loss=0.930, Validation Accuracy = 0.980**Model Saved**\n",
    "EPOCH 2, lr=0.007354 : train_loss=5.176, triplet_loss=0.673, Validation Accuracy = 0.981**Model Saved**\n",
    "EPOCH 3, lr=0.006305 : train_loss=4.628, triplet_loss=0.578, Validation Accuracy = 0.978\n",
    "EPOCH 4, lr=0.005406 : train_loss=4.090, triplet_loss=0.497, Validation Accuracy = 0.986**Model Saved**\n",
    "EPOCH 5, lr=0.004635 : train_loss=3.732, triplet_loss=0.441, Validation Accuracy = 0.981\n",
    "EPOCH 6, lr=0.003974 : train_loss=3.409, triplet_loss=0.397, Validation Accuracy = 0.987**Model Saved**\n",
    "EPOCH 7, lr=0.003407 : train_loss=3.103, triplet_loss=0.358, Validation Accuracy = 0.986\n",
    "EPOCH 8, lr=0.002921 : train_loss=2.934, triplet_loss=0.334, Validation Accuracy = 0.984\n",
    "EPOCH 9, lr=0.002505 : train_loss=2.674, triplet_loss=0.297, Validation Accuracy = 0.988**Model Saved**\n",
    "EPOCH 10, lr=0.002148 : train_loss=2.486, triplet_loss=0.272, Validation Accuracy = 0.988\n",
    "EPOCH 11, lr=0.001841 : train_loss=2.272, triplet_loss=0.237, Validation Accuracy = 0.989**Model Saved**\n",
    "EPOCH 12, lr=0.001579 : train_loss=2.149, triplet_loss=0.228, Validation Accuracy = 0.989**Model Saved**\n",
    "EPOCH 13, lr=0.001354 : train_loss=1.950, triplet_loss=0.194, Validation Accuracy = 0.989\n",
    "EPOCH 14, lr=0.001161 : train_loss=1.823, triplet_loss=0.178, Validation Accuracy = 0.990**Model Saved**\n",
    "EPOCH 15, lr=0.000995 : train_loss=1.707, triplet_loss=0.160, Validation Accuracy = 0.989\n",
    "EPOCH 16, lr=0.000853 : train_loss=1.622, triplet_loss=0.150, Validation Accuracy = 0.988\n",
    "EPOCH 17, lr=0.000731 : train_loss=1.496, triplet_loss=0.129, Validation Accuracy = 0.990\n",
    "EPOCH 18, lr=0.000627 : train_loss=1.401, triplet_loss=0.114, Validation Accuracy = 0.990**Model Saved**\n",
    "EPOCH 19, lr=0.000538 : train_loss=1.335, triplet_loss=0.107, Validation Accuracy = 0.989\n",
    "EPOCH 20, lr=0.000461 : train_loss=1.276, triplet_loss=0.100, Validation Accuracy = 0.988\n",
    "Training was done.\n",
    "======================================================================================\n",
    "Training...triplet margin=-0.5\n",
    "EPOCH 1, lr=0.008577 : train_loss=10.784, triplet_loss=0.017, Validation Accuracy = 0.974**Model Saved**\n",
    "EPOCH 2, lr=0.007354 : train_loss=4.703, triplet_loss=0.009, Validation Accuracy = 0.984**Model Saved**\n",
    "EPOCH 3, lr=0.006305 : train_loss=3.888, triplet_loss=0.006, Validation Accuracy = 0.986**Model Saved**\n",
    "EPOCH 4, lr=0.005406 : train_loss=3.452, triplet_loss=0.005, Validation Accuracy = 0.982\n",
    "EPOCH 5, lr=0.004635 : train_loss=3.102, triplet_loss=0.004, Validation Accuracy = 0.985\n",
    "EPOCH 6, lr=0.003974 : train_loss=2.832, triplet_loss=0.003, Validation Accuracy = 0.987**Model Saved**\n",
    "EPOCH 7, lr=0.003407 : train_loss=2.560, triplet_loss=0.004, Validation Accuracy = 0.988**Model Saved**\n",
    "EPOCH 8, lr=0.002921 : train_loss=2.341, triplet_loss=0.003, Validation Accuracy = 0.988\n",
    "EPOCH 9, lr=0.002505 : train_loss=2.141, triplet_loss=0.003, Validation Accuracy = 0.989**Model Saved**\n",
    "EPOCH 10, lr=0.002148 : train_loss=1.894, triplet_loss=0.003, Validation Accuracy = 0.989**Model Saved**\n",
    "EPOCH 11, lr=0.001841 : train_loss=1.710, triplet_loss=0.002, Validation Accuracy = 0.988\n",
    "EPOCH 12, lr=0.001579 : train_loss=1.598, triplet_loss=0.002, Validation Accuracy = 0.989\n",
    "EPOCH 13, lr=0.001354 : train_loss=1.443, triplet_loss=0.001, Validation Accuracy = 0.989**Model Saved**\n",
    "EPOCH 14, lr=0.001161 : train_loss=1.350, triplet_loss=0.001, Validation Accuracy = 0.989\n",
    "EPOCH 15, lr=0.000995 : train_loss=1.250, triplet_loss=0.001, Validation Accuracy = 0.989\n",
    "EPOCH 16, lr=0.000853 : train_loss=1.125, triplet_loss=0.001, Validation Accuracy = 0.991**Model Saved**\n",
    "EPOCH 17, lr=0.000731 : train_loss=1.021, triplet_loss=0.001, Validation Accuracy = 0.989\n",
    "EPOCH 18, lr=0.000627 : train_loss=0.979, triplet_loss=0.001, Validation Accuracy = 0.990\n",
    "EPOCH 19, lr=0.000538 : train_loss=0.901, triplet_loss=0.001, Validation Accuracy = 0.991\n",
    "EPOCH 20, lr=0.000461 : train_loss=0.850, triplet_loss=0.001, Validation Accuracy = 0.990\n",
    "Training was done.\n",
    "=============================================================================================\n",
    "Training...triplet margin=0.5\n",
    "EPOCH 1, lr=0.008577 : train_loss=12.858, triplet_loss=0.466, Validation Accuracy = 0.978**Model Saved**\n",
    "EPOCH 2, lr=0.007354 : train_loss=4.676, triplet_loss=0.255, Validation Accuracy = 0.984**Model Saved**\n",
    "EPOCH 3, lr=0.006305 : train_loss=4.044, triplet_loss=0.202, Validation Accuracy = 0.986**Model Saved**\n",
    "EPOCH 4, lr=0.005406 : train_loss=3.633, triplet_loss=0.177, Validation Accuracy = 0.985\n",
    "EPOCH 5, lr=0.004635 : train_loss=3.286, triplet_loss=0.150, Validation Accuracy = 0.987**Model Saved**\n",
    "EPOCH 6, lr=0.003974 : train_loss=2.905, triplet_loss=0.125, Validation Accuracy = 0.987\n",
    "EPOCH 7, lr=0.003407 : train_loss=2.708, triplet_loss=0.112, Validation Accuracy = 0.988**Model Saved**\n",
    "EPOCH 8, lr=0.002921 : train_loss=2.485, triplet_loss=0.100, Validation Accuracy = 0.986\n",
    "EPOCH 9, lr=0.002505 : train_loss=2.265, triplet_loss=0.089, Validation Accuracy = 0.987\n",
    "EPOCH 10, lr=0.002148 : train_loss=2.053, triplet_loss=0.075, Validation Accuracy = 0.989**Model Saved**\n",
    "EPOCH 11, lr=0.001841 : train_loss=1.856, triplet_loss=0.064, Validation Accuracy = 0.990**Model Saved**\n",
    "EPOCH 12, lr=0.001579 : train_loss=1.738, triplet_loss=0.056, Validation Accuracy = 0.989\n",
    "EPOCH 13, lr=0.001354 : train_loss=1.604, triplet_loss=0.049, Validation Accuracy = 0.987\n",
    "EPOCH 14, lr=0.001161 : train_loss=1.450, triplet_loss=0.041, Validation Accuracy = 0.989\n",
    "EPOCH 15, lr=0.000995 : train_loss=1.304, triplet_loss=0.034, Validation Accuracy = 0.988\n",
    "EPOCH 16, lr=0.000853 : train_loss=1.207, triplet_loss=0.030, Validation Accuracy = 0.989\n",
    "EPOCH 17, lr=0.000731 : train_loss=1.139, triplet_loss=0.027, Validation Accuracy = 0.988\n",
    "EPOCH 18, lr=0.000627 : train_loss=1.077, triplet_loss=0.024, Validation Accuracy = 0.990\n",
    "EPOCH 19, lr=0.000538 : train_loss=0.990, triplet_loss=0.021, Validation Accuracy = 0.989\n",
    "EPOCH 20, lr=0.000461 : train_loss=0.924, triplet_loss=0.018, Validation Accuracy = 0.989\n",
    "Training was done.\n",
    "=====================================================================\n",
    "Training...triplet softplus margin\n",
    "EPOCH 1, lr=0.008577 : train_loss=12.756, triplet_loss=0.694, Validation Accuracy = 0.979**Model Saved**\n",
    "EPOCH 2, lr=0.007354 : train_loss=5.139, triplet_loss=0.585, Validation Accuracy = 0.981**Model Saved**\n",
    "EPOCH 3, lr=0.006305 : train_loss=4.470, triplet_loss=0.541, Validation Accuracy = 0.982**Model Saved**\n",
    "EPOCH 4, lr=0.005406 : train_loss=4.094, triplet_loss=0.514, Validation Accuracy = 0.984**Model Saved**\n",
    "EPOCH 5, lr=0.004635 : train_loss=3.790, triplet_loss=0.490, Validation Accuracy = 0.987**Model Saved**\n",
    "EPOCH 6, lr=0.003974 : train_loss=3.343, triplet_loss=0.470, Validation Accuracy = 0.985\n",
    "EPOCH 7, lr=0.003407 : train_loss=3.105, triplet_loss=0.451, Validation Accuracy = 0.988**Model Saved**\n",
    "EPOCH 8, lr=0.002921 : train_loss=2.903, triplet_loss=0.441, Validation Accuracy = 0.989**Model Saved**\n",
    "EPOCH 9, lr=0.002505 : train_loss=2.692, triplet_loss=0.425, Validation Accuracy = 0.988\n",
    "EPOCH 10, lr=0.002148 : train_loss=2.533, triplet_loss=0.414, Validation Accuracy = 0.988\n",
    "EPOCH 11, lr=0.001841 : train_loss=2.338, triplet_loss=0.400, Validation Accuracy = 0.990**Model Saved**\n",
    "EPOCH 12, lr=0.001579 : train_loss=2.126, triplet_loss=0.380, Validation Accuracy = 0.988\n",
    "EPOCH 13, lr=0.001354 : train_loss=1.962, triplet_loss=0.372, Validation Accuracy = 0.989\n",
    "EPOCH 14, lr=0.001161 : train_loss=1.895, triplet_loss=0.366, Validation Accuracy = 0.989\n",
    "EPOCH 15, lr=0.000995 : train_loss=1.761, triplet_loss=0.355, Validation Accuracy = 0.989\n",
    "EPOCH 16, lr=0.000853 : train_loss=1.699, triplet_loss=0.346, Validation Accuracy = 0.989\n",
    "EPOCH 17, lr=0.000731 : train_loss=1.588, triplet_loss=0.338, Validation Accuracy = 0.990\n",
    "EPOCH 18, lr=0.000627 : train_loss=1.485, triplet_loss=0.329, Validation Accuracy = 0.991**Model Saved**\n",
    "EPOCH 19, lr=0.000538 : train_loss=1.427, triplet_loss=0.324, Validation Accuracy = 0.990\n",
    "EPOCH 20, lr=0.000461 : train_loss=1.375, triplet_loss=0.319, Validation Accuracy = 0.990\n",
    "Training was done.\n",
    "============================================================================\n",
    "Training...\n",
    "EPOCH 1, lr=0.008577 : train_loss=12.191, Validation Accuracy = 0.976**Model Saved**\n",
    "EPOCH 2, lr=0.007354 : train_loss=4.523, Validation Accuracy = 0.980**Model Saved**\n",
    "EPOCH 3, lr=0.006305 : train_loss=3.887, Validation Accuracy = 0.986**Model Saved**\n",
    "EPOCH 4, lr=0.005406 : train_loss=3.592, Validation Accuracy = 0.984\n",
    "EPOCH 5, lr=0.004635 : train_loss=3.146, Validation Accuracy = 0.988**Model Saved**\n",
    "EPOCH 6, lr=0.003974 : train_loss=2.874, Validation Accuracy = 0.988\n",
    "EPOCH 7, lr=0.003407 : train_loss=2.626, Validation Accuracy = 0.989**Model Saved**\n",
    "EPOCH 8, lr=0.002921 : train_loss=2.351, Validation Accuracy = 0.989**Model Saved**\n",
    "EPOCH 9, lr=0.002505 : train_loss=2.100, Validation Accuracy = 0.990**Model Saved**\n",
    "EPOCH 10, lr=0.002148 : train_loss=1.919, Validation Accuracy = 0.990**Model Saved**\n",
    "EPOCH 11, lr=0.001841 : train_loss=1.796, Validation Accuracy = 0.990**Model Saved**\n",
    "EPOCH 12, lr=0.001579 : train_loss=1.633, Validation Accuracy = 0.992**Model Saved**\n",
    "EPOCH 13, lr=0.001354 : train_loss=1.449, Validation Accuracy = 0.991\n",
    "EPOCH 14, lr=0.001161 : train_loss=1.361, Validation Accuracy = 0.990\n",
    "EPOCH 15, lr=0.000995 : train_loss=1.254, Validation Accuracy = 0.992\n",
    "EPOCH 16, lr=0.000853 : train_loss=1.132, Validation Accuracy = 0.992\n",
    "EPOCH 17, lr=0.000731 : train_loss=1.047, Validation Accuracy = 0.991\n",
    "EPOCH 18, lr=0.000627 : train_loss=0.983, Validation Accuracy = 0.991\n",
    "EPOCH 19, lr=0.000538 : train_loss=0.904, Validation Accuracy = 0.992\n",
    "EPOCH 20, lr=0.000461 : train_loss=0.857, Validation Accuracy = 0.991\n",
    "Training was done."
   ]
  },
  {
   "cell_type": "markdown",
   "metadata": {},
   "source": [
    "## Evaluate the Model\n",
    "Once you are completely satisfied with your model, evaluate the performance of the model on the test set.\n",
    "\n",
    "Be sure to only do this once!\n",
    "\n",
    "If you were to measure the performance of your trained model on the test set, then improve your model, and then measure the performance of your model on the test set again, that would invalidate your test results. You wouldn't get a true measure of how well your model would perform against real data.\n",
    "\n",
    "You do not need to modify this section."
   ]
  },
  {
   "cell_type": "code",
   "execution_count": 24,
   "metadata": {},
   "outputs": [
    {
     "name": "stdout",
     "output_type": "stream",
     "text": [
      "INFO:tensorflow:Restoring parameters from ./lenet\n",
      "Test Accuracy = 0.988\n"
     ]
    }
   ],
   "source": [
    "with tf.Session() as sess:\n",
    "    saver.restore(sess, tf.train.latest_checkpoint('.'))\n",
    "\n",
    "    test_accuracy = evaluate(X_test, y_test)\n",
    "    print(\"Test Accuracy = {:.3f}\".format(test_accuracy))"
   ]
  },
  {
   "cell_type": "code",
   "execution_count": null,
   "metadata": {},
   "outputs": [],
   "source": []
  }
 ],
 "metadata": {
  "anaconda-cloud": {},
  "kernelspec": {
   "display_name": "Python 2",
   "language": "python",
   "name": "python2"
  },
  "language_info": {
   "codemirror_mode": {
    "name": "ipython",
    "version": 2
   },
   "file_extension": ".py",
   "mimetype": "text/x-python",
   "name": "python",
   "nbconvert_exporter": "python",
   "pygments_lexer": "ipython2",
   "version": "2.7.6"
  },
  "widgets": {
   "state": {},
   "version": "1.1.2"
  }
 },
 "nbformat": 4,
 "nbformat_minor": 1
}
