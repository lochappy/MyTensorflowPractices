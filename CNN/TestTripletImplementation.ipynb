{
 "cells": [
  {
   "cell_type": "code",
   "execution_count": 1,
   "metadata": {},
   "outputs": [],
   "source": [
    "import tensorflow as tf"
   ]
  },
  {
   "cell_type": "code",
   "execution_count": 2,
   "metadata": {},
   "outputs": [],
   "source": [
    "import numpy as np\n",
    "fea = np.random.normal(size=(6,2)).astype(np.float32)"
   ]
  },
  {
   "cell_type": "code",
   "execution_count": 3,
   "metadata": {},
   "outputs": [
    {
     "data": {
      "text/plain": [
       "<tensorflow.python.client.session.InteractiveSession at 0x111e3cd50>"
      ]
     },
     "execution_count": 3,
     "metadata": {},
     "output_type": "execute_result"
    }
   ],
   "source": [
    "tf.InteractiveSession()"
   ]
  },
  {
   "cell_type": "code",
   "execution_count": 4,
   "metadata": {},
   "outputs": [
    {
     "data": {
      "text/plain": [
       "(6,)"
      ]
     },
     "execution_count": 4,
     "metadata": {},
     "output_type": "execute_result"
    }
   ],
   "source": [
    "embedded_feature = tf.constant(value=fea)\n",
    "pids=tf.constant(value=[0,0,0,0,0,1])\n",
    "pids.eval().shape"
   ]
  },
  {
   "cell_type": "code",
   "execution_count": 5,
   "metadata": {},
   "outputs": [
    {
     "data": {
      "text/plain": [
       "(6, 6)"
      ]
     },
     "execution_count": 5,
     "metadata": {},
     "output_type": "execute_result"
    }
   ],
   "source": [
    "cdist = tf.expand_dims(embedded_feature,axis=1) - tf.expand_dims(embedded_feature,axis=0) \n",
    "cdist =tf.sqrt(tf.reduce_sum(tf.square(cdist), axis=-1) + 1e-12)\n",
    "cdist.eval().shape"
   ]
  },
  {
   "cell_type": "code",
   "execution_count": 6,
   "metadata": {},
   "outputs": [
    {
     "data": {
      "text/plain": [
       "array([[ True,  True,  True,  True,  True, False],\n",
       "       [ True,  True,  True,  True,  True, False],\n",
       "       [ True,  True,  True,  True,  True, False],\n",
       "       [ True,  True,  True,  True,  True, False],\n",
       "       [ True,  True,  True,  True,  True, False],\n",
       "       [False, False, False, False, False,  True]], dtype=bool)"
      ]
     },
     "execution_count": 6,
     "metadata": {},
     "output_type": "execute_result"
    }
   ],
   "source": [
    "same_identity_mask = tf.equal(tf.expand_dims(pids, axis=1), tf.expand_dims(pids, axis=0))\n",
    "same_identity_mask.eval()"
   ]
  },
  {
   "cell_type": "code",
   "execution_count": 7,
   "metadata": {},
   "outputs": [
    {
     "data": {
      "text/plain": [
       "array([[False, False, False, False, False,  True],\n",
       "       [False, False, False, False, False,  True],\n",
       "       [False, False, False, False, False,  True],\n",
       "       [False, False, False, False, False,  True],\n",
       "       [False, False, False, False, False,  True],\n",
       "       [ True,  True,  True,  True,  True, False]], dtype=bool)"
      ]
     },
     "execution_count": 7,
     "metadata": {},
     "output_type": "execute_result"
    }
   ],
   "source": [
    "negative_mask = tf.logical_not(same_identity_mask)\n",
    "negative_mask.eval()"
   ]
  },
  {
   "cell_type": "code",
   "execution_count": 8,
   "metadata": {},
   "outputs": [
    {
     "data": {
      "text/plain": [
       "array([[False,  True,  True,  True,  True, False],\n",
       "       [ True, False,  True,  True,  True, False],\n",
       "       [ True,  True, False,  True,  True, False],\n",
       "       [ True,  True,  True, False,  True, False],\n",
       "       [ True,  True,  True,  True, False, False],\n",
       "       [False, False, False, False, False, False]], dtype=bool)"
      ]
     },
     "execution_count": 8,
     "metadata": {},
     "output_type": "execute_result"
    }
   ],
   "source": [
    "positive_mask = tf.logical_xor(same_identity_mask,tf.eye(tf.shape(pids)[0], dtype=tf.bool))\n",
    "positive_mask.eval()"
   ]
  },
  {
   "cell_type": "code",
   "execution_count": 9,
   "metadata": {},
   "outputs": [
    {
     "data": {
      "text/plain": [
       "array([ 1.75529301,  1.96527934,  2.06328487,  2.06328487,  1.92065263,  0.        ], dtype=float32)"
      ]
     },
     "execution_count": 9,
     "metadata": {},
     "output_type": "execute_result"
    }
   ],
   "source": [
    "furthest_positive = tf.reduce_max(cdist*tf.cast(positive_mask, tf.float32), axis=1)\n",
    "furthest_positive.eval()"
   ]
  },
  {
   "cell_type": "code",
   "execution_count": 18,
   "metadata": {},
   "outputs": [
    {
     "data": {
      "text/plain": [
       "array([[ 0.        ,  0.08740103,  1.04532599],\n",
       "       [ 0.        ,  0.        ,  0.        ],\n",
       "       [ 0.        ,  0.        ,  0.59311676],\n",
       "       [ 0.        ,  0.        ,  0.        ],\n",
       "       [ 0.        ,  0.        ,  1.01517606],\n",
       "       [ 0.        ,  0.        ,  0.        ]], dtype=float32)"
      ]
     },
     "execution_count": 18,
     "metadata": {},
     "output_type": "execute_result"
    }
   ],
   "source": [
    "margin = 0.5\n",
    "def computeDistanceOfPosNegPair(x):\n",
    "    x[0].set_shape([None])\n",
    "    x[1].set_shape([None])\n",
    "    x[2].set_shape([None])\n",
    "    pos_pair_dist = tf.expand_dims(tf.boolean_mask(x[0], x[1]),axis=1)\n",
    "    neg_pair_dist = tf.expand_dims(tf.boolean_mask(x[0], x[2]),axis=0)\n",
    "            \n",
    "    #check if there is no positive pairs in the batch\n",
    "    noPosPairs = tf.less(tf.shape(pos_pair_dist)[0],1)\n",
    "    #check if there is no negative pairs in the batch\n",
    "    noNegPairs = tf.less(tf.shape(neg_pair_dist)[1],1)\n",
    "            \n",
    "    def PosNegPairs(): return tf.reshape(pos_pair_dist - neg_pair_dist,shape=[-1])\n",
    "    def noPosPair(): return  tf.reshape(-neg_pair_dist,shape=[-1])\n",
    "    def noNegPair(): return tf.reshape(pos_pair_dist,shape=[-1])\n",
    "    pos_neg_dist = tf.case({noPosPairs:noPosPair, \\\n",
    "                            noNegPairs:noNegPair}, \\\n",
    "                            default=PosNegPairs,exclusive=True)\n",
    "    hardcases,_ = tf.nn.top_k(-pos_neg_dist,k=3)\n",
    "    hardcases = -hardcases\n",
    "    hardcases = tf.maximum(hardcases+margin,0.0)\n",
    "    \n",
    "    return hardcases\n",
    "            \n",
    "    #weighted_pos_neg_dist = tf.multiply(tf.nn.softmax(pos_neg_dist),pos_neg_dist)\n",
    "    #return tf.reduce_sum(weighted_pos_neg_dist)\n",
    "\n",
    "pos_neg_dist = tf.map_fn(computeDistanceOfPosNegPair,(cdist, positive_mask, negative_mask), tf.float32)\n",
    "pos_neg_dist.eval()"
   ]
  },
  {
   "cell_type": "code",
   "execution_count": 11,
   "metadata": {},
   "outputs": [
    {
     "data": {
      "text/plain": [
       "0.66666669"
      ]
     },
     "execution_count": 11,
     "metadata": {},
     "output_type": "execute_result"
    }
   ],
   "source": [
    "#diff = tf.nn.softplus(pos_neg_dist)\n",
    "diff = tf.reduce_mean(tf.maximum(pos_neg_dist + 0.5, 0.0)) +1e-12\n",
    "diff.eval()"
   ]
  },
  {
   "cell_type": "code",
   "execution_count": 58,
   "metadata": {},
   "outputs": [
    {
     "data": {
      "text/plain": [
       "array([ inf,  inf,  inf,  inf,  inf,  inf,  inf], dtype=float32)"
      ]
     },
     "execution_count": 58,
     "metadata": {},
     "output_type": "execute_result"
    }
   ],
   "source": [
    "def reduceMin(x):\n",
    "    x[0].set_shape([None])\n",
    "    x[1].set_shape([None])\n",
    "    return tf.reduce_min(tf.boolean_mask(x[0], x[1]))\n",
    "\n",
    "closest_negative = tf.map_fn(reduceMin,(cdist, negative_mask), tf.float32)\n",
    "closest_negative.eval()"
   ]
  },
  {
   "cell_type": "code",
   "execution_count": 14,
   "metadata": {},
   "outputs": [
    {
     "data": {
      "text/plain": [
       "array([[ 0.        ,  1.10811687,  0.86912888,  1.5635612 ,  1.47273374,\n",
       "         1.49304783,  0.45302168],\n",
       "       [ 1.10811687,  0.        ,  0.        ,  0.        ,  0.        ,\n",
       "         0.        ,  0.        ],\n",
       "       [ 0.86912888,  0.        ,  0.        ,  0.        ,  0.        ,\n",
       "         0.        ,  0.        ],\n",
       "       [ 1.5635612 ,  0.        ,  0.        ,  0.        ,  0.        ,\n",
       "         0.        ,  0.        ],\n",
       "       [ 1.47273374,  0.        ,  0.        ,  0.        ,  0.        ,\n",
       "         0.        ,  0.        ],\n",
       "       [ 1.49304783,  0.        ,  0.        ,  0.        ,  0.        ,\n",
       "         0.        ,  0.        ],\n",
       "       [ 0.45302168,  0.        ,  0.        ,  0.        ,  0.        ,\n",
       "         0.        ,  0.        ]], dtype=float32)"
      ]
     },
     "execution_count": 14,
     "metadata": {},
     "output_type": "execute_result"
    }
   ],
   "source": [
    "closest_negative = cdist*tf.cast(negative_mask,tf.float32)\n",
    "closest_negative.eval()"
   ]
  },
  {
   "cell_type": "code",
   "execution_count": 15,
   "metadata": {},
   "outputs": [
    {
     "data": {
      "text/plain": [
       "array([ 0.45302168,  1.10811687,  0.86912888,  1.5635612 ,  1.47273374,\n",
       "        1.49304783,  0.45302168], dtype=float32)"
      ]
     },
     "execution_count": 15,
     "metadata": {},
     "output_type": "execute_result"
    }
   ],
   "source": [
    "closest_negative = tf.reduce_min(cdist + 1e5*tf.cast(same_identity_mask, tf.float32), axis=1)\n",
    "closest_negative.eval()"
   ]
  },
  {
   "cell_type": "code",
   "execution_count": null,
   "metadata": {
    "collapsed": true
   },
   "outputs": [],
   "source": [
    "tf.nn.top_k"
   ]
  }
 ],
 "metadata": {
  "kernelspec": {
   "display_name": "Python 2",
   "language": "python",
   "name": "python2"
  },
  "language_info": {
   "codemirror_mode": {
    "name": "ipython",
    "version": 2
   },
   "file_extension": ".py",
   "mimetype": "text/x-python",
   "name": "python",
   "nbconvert_exporter": "python",
   "pygments_lexer": "ipython2",
   "version": "2.7.10"
  }
 },
 "nbformat": 4,
 "nbformat_minor": 2
}
