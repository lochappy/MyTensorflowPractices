{
 "cells": [
  {
   "cell_type": "markdown",
   "metadata": {},
   "source": [
    "## CIFAR-10-Classification\n",
    "We'll be using the CIFAR-10 dataset, which is very famous dataset for image recognition! \n",
    "\n",
    "The CIFAR-10 dataset consists of 60000 32x32 colour images in 10 classes, with 6000 images per class. There are 50000 training images and 10000 test images. \n",
    "\n",
    "The dataset is divided into five training batches and one test batch, each with 10000 images. The test batch contains exactly 1000 randomly-selected images from each class. The training batches contain the remaining images in random order, but some training batches may contain more images from one class than another. Between them, the training batches contain exactly 5000 images from each class. \n"
   ]
  },
  {
   "cell_type": "markdown",
   "metadata": {},
   "source": [
    "## Step 0: Get the Data"
   ]
  },
  {
   "cell_type": "markdown",
   "metadata": {},
   "source": [
    "** Download the data for CIFAR from here: https://www.cs.toronto.edu/~kriz/cifar.html **\n",
    "\n",
    "**Specifically the CIFAR-10 python version link: https://www.cs.toronto.edu/~kriz/cifar-10-python.tar.gz **\n",
    "\n",
    "** Remember the directory you save the file in! **"
   ]
  },
  {
   "cell_type": "code",
   "execution_count": 1,
   "metadata": {
    "collapsed": true
   },
   "outputs": [],
   "source": [
    "# Put file path as a string here\n",
    "CIFAR_DIR = '../data/cifar-10-batches-py'"
   ]
  },
  {
   "cell_type": "markdown",
   "metadata": {},
   "source": [
    "The archive contains the files data_batch_1, data_batch_2, ..., data_batch_5, as well as test_batch. Each of these files is a Python \"pickled\" object produced with cPickle. \n",
    "\n",
    "** Load the Data. Use the Code Below to load the data: **"
   ]
  },
  {
   "cell_type": "code",
   "execution_count": 2,
   "metadata": {
    "collapsed": true
   },
   "outputs": [],
   "source": [
    "def unpickle(file):\n",
    "    import pickle\n",
    "    with open(file, 'rb') as fo:\n",
    "        cifar_dict = pickle.load(fo)\n",
    "    return cifar_dict"
   ]
  },
  {
   "cell_type": "code",
   "execution_count": 3,
   "metadata": {
    "collapsed": true
   },
   "outputs": [],
   "source": [
    "dirs = ['batches.meta','data_batch_1','data_batch_2','data_batch_3','data_batch_4','data_batch_5','test_batch']"
   ]
  },
  {
   "cell_type": "code",
   "execution_count": 4,
   "metadata": {
    "collapsed": true
   },
   "outputs": [],
   "source": [
    "all_data = [0,1,2,3,4,5,6]"
   ]
  },
  {
   "cell_type": "code",
   "execution_count": 5,
   "metadata": {
    "collapsed": true
   },
   "outputs": [],
   "source": [
    "for i,direc in zip(all_data,dirs):\n",
    "    all_data[i] = unpickle(CIFAR_DIR+'/'+direc)"
   ]
  },
  {
   "cell_type": "code",
   "execution_count": 6,
   "metadata": {
    "collapsed": true
   },
   "outputs": [],
   "source": [
    "batch_meta = all_data[0]\n",
    "data_batch1 = all_data[1]\n",
    "data_batch2 = all_data[2]\n",
    "data_batch3 = all_data[3]\n",
    "data_batch4 = all_data[4]\n",
    "data_batch5 = all_data[5]\n",
    "test_batch = all_data[6]"
   ]
  },
  {
   "cell_type": "code",
   "execution_count": 7,
   "metadata": {},
   "outputs": [
    {
     "data": {
      "text/plain": [
       "{'label_names': ['airplane',\n",
       "  'automobile',\n",
       "  'bird',\n",
       "  'cat',\n",
       "  'deer',\n",
       "  'dog',\n",
       "  'frog',\n",
       "  'horse',\n",
       "  'ship',\n",
       "  'truck'],\n",
       " 'num_cases_per_batch': 10000,\n",
       " 'num_vis': 3072}"
      ]
     },
     "execution_count": 7,
     "metadata": {},
     "output_type": "execute_result"
    }
   ],
   "source": [
    "batch_meta"
   ]
  },
  {
   "cell_type": "markdown",
   "metadata": {},
   "source": [
    "** Why the 'b's in front of the string? **\n",
    "Bytes literals are always prefixed with 'b' or 'B'; they produce an instance of the bytes type instead of the str type. They may only contain ASCII characters; bytes with a numeric value of 128 or greater must be expressed with escapes.\n",
    "\n",
    "https://stackoverflow.com/questions/6269765/what-does-the-b-character-do-in-front-of-a-string-literal"
   ]
  },
  {
   "cell_type": "code",
   "execution_count": 8,
   "metadata": {},
   "outputs": [
    {
     "data": {
      "text/plain": [
       "['data', 'labels', 'batch_label', 'filenames']"
      ]
     },
     "execution_count": 8,
     "metadata": {},
     "output_type": "execute_result"
    }
   ],
   "source": [
    "all_data[1].keys()"
   ]
  },
  {
   "cell_type": "markdown",
   "metadata": {},
   "source": [
    "Loaded in this way, each of the batch files contains a dictionary with the following elements:\n",
    "* data -- a 10000x3072 numpy array of uint8s. Each row of the array stores a 32x32 colour image. The first 1024 entries contain the red channel values, the next 1024 the green, and the final 1024 the blue. The image is stored in row-major order, so that the first 32 entries of the array are the red channel values of the first row of the image.\n",
    "* labels -- a list of 10000 numbers in the range 0-9. The number at index i indicates the label of the ith image in the array data.\n",
    "\n",
    "The dataset contains another file, called batches.meta. It too contains a Python dictionary object. It has the following entries:\n",
    "\n",
    "* label_names -- a 10-element list which gives meaningful names to the numeric labels in the labels array described above. For example, label_names[0] == \"airplane\", label_names[1] == \"automobile\", etc."
   ]
  },
  {
   "cell_type": "markdown",
   "metadata": {},
   "source": [
    "### Display a single image using matplotlib.\n",
    "\n",
    "** Grab a single image from data_batch1 and display it with plt.imshow(). You'll need to reshape and transpose the numpy array inside the X = data_batch[b'data'] dictionary entry.**\n",
    "\n",
    "** It should end up looking like this: **\n",
    "\n",
    "    # Array of all images reshaped and formatted for viewing\n",
    "    X = X.reshape(10000, 3, 32, 32).transpose(0,2,3,1).astype(\"uint8\")"
   ]
  },
  {
   "cell_type": "code",
   "execution_count": 9,
   "metadata": {
    "collapsed": true
   },
   "outputs": [],
   "source": [
    "import matplotlib.pyplot as plt\n",
    "%matplotlib inline\n",
    "import numpy as np"
   ]
  },
  {
   "cell_type": "code",
   "execution_count": 10,
   "metadata": {},
   "outputs": [
    {
     "name": "stdout",
     "output_type": "stream",
     "text": [
      "train_data.shape=(50000, 32, 32, 3), train_labels.shape=(50000, 1)\n",
      "test_data.shape=(10000, 32, 32, 3), test_labels.shape=(10000, 1)\n"
     ]
    }
   ],
   "source": [
    "#concat all of the batches into a single train data matrix\n",
    "train_data = all_data[1]['data'].reshape(10000, 3, 32, 32).transpose(0,2,3,1)\n",
    "train_labels = np.array(all_data[1]['labels']).reshape(-1,1)\n",
    "for data in all_data[2:6]:\n",
    "    train_data = np.vstack((train_data, data['data'].reshape(10000, 3, 32, 32).transpose(0,2,3,1)))\n",
    "    train_labels = np.vstack((train_labels, np.array(data['labels']).reshape(-1,1)))\n",
    "print \"train_data.shape={}, train_labels.shape={}\".format(train_data.shape,train_labels.shape)\n",
    "\n",
    "#concat all of the batches into a single test data matrix\n",
    "test_data = all_data[6]['data'].reshape(10000, 3, 32, 32).transpose(0,2,3,1)\n",
    "test_labels = np.array(all_data[6]['labels']).reshape(-1,1)\n",
    "print \"test_data.shape={}, test_labels.shape={}\".format(test_data.shape,test_labels.shape)"
   ]
  },
  {
   "cell_type": "code",
   "execution_count": 11,
   "metadata": {},
   "outputs": [
    {
     "data": {
      "text/plain": [
       "<matplotlib.image.AxesImage at 0x7f18f21a6390>"
      ]
     },
     "execution_count": 11,
     "metadata": {},
     "output_type": "execute_result"
    },
    {
     "data": {
      "image/png": "[encoded data removed]",
      "text/plain": [
       "<matplotlib.figure.Figure at 0x7f18fd42f8d0>"
      ]
     },
     "metadata": {},
     "output_type": "display_data"
    }
   ],
   "source": [
    "plt.imshow(train_data[0])"
   ]
  },
  {
   "cell_type": "code",
   "execution_count": 12,
   "metadata": {},
   "outputs": [
    {
     "data": {
      "text/plain": [
       "<matplotlib.image.AxesImage at 0x7f18f20cfc50>"
      ]
     },
     "execution_count": 12,
     "metadata": {},
     "output_type": "execute_result"
    },
    {
     "data": {
      "image/png": "[encoded data removed]",
      "text/plain": [
       "<matplotlib.figure.Figure at 0x7f18fd464310>"
      ]
     },
     "metadata": {},
     "output_type": "display_data"
    }
   ],
   "source": [
    "plt.imshow(train_data[1])"
   ]
  },
  {
   "cell_type": "code",
   "execution_count": 13,
   "metadata": {},
   "outputs": [
    {
     "data": {
      "text/plain": [
       "<matplotlib.image.AxesImage at 0x7f18f2057550>"
      ]
     },
     "execution_count": 13,
     "metadata": {},
     "output_type": "execute_result"
    },
    {
     "data": {
      "image/png": "[encoded data removed]",
      "text/plain": [
       "<matplotlib.figure.Figure at 0x7f18f21210d0>"
      ]
     },
     "metadata": {},
     "output_type": "display_data"
    }
   ],
   "source": [
    "plt.imshow(train_data[4])"
   ]
  },
  {
   "cell_type": "markdown",
   "metadata": {},
   "source": [
    "# Helper Functions for Dealing With Data.\n",
    "\n",
    "** Use the provided code below to help with dealing with grabbing the next batch once you've gotten ready to create the Graph Session. Can you break down how it works? **"
   ]
  },
  {
   "cell_type": "code",
   "execution_count": 14,
   "metadata": {
    "collapsed": true
   },
   "outputs": [],
   "source": [
    "def one_hot_encode(vec, vals=10):\n",
    "    '''\n",
    "    For use to one-hot encode the 10- possible labels\n",
    "    '''\n",
    "    n = len(vec)\n",
    "    out = np.zeros((n, vals))\n",
    "    out[range(n), vec] = 1\n",
    "    return out"
   ]
  },
  {
   "cell_type": "code",
   "execution_count": 15,
   "metadata": {
    "collapsed": true
   },
   "outputs": [],
   "source": [
    "class CifarHelper():\n",
    "    \n",
    "    def __init__(self):\n",
    "        self.i = 0\n",
    "        self.epochs = 0\n",
    "        self._endBatch = False\n",
    "    \n",
    "        self.i_test = 0\n",
    "        \n",
    "        # Intialize some empty variables for later on\n",
    "        self.training_images = None\n",
    "        self.training_labels = None\n",
    "        self.train_len = None\n",
    "        \n",
    "        self.test_images = None\n",
    "        self.test_labels = None\n",
    "        self.test_len = None\n",
    "    \n",
    "    def set_up_images(self):\n",
    "        \n",
    "        print(\"Setting Up Training Images and Labels\")\n",
    "        \n",
    "        # normalizes training images\n",
    "        self.training_images = train_data/255\n",
    "        self.train_len = train_data.shape[0]\n",
    "\n",
    "        # One hot Encodes the training labels (e.g. [0,0,0,1,0,0,0,0,0,0])\n",
    "        self.training_labels = train_labels.astype(np.int32)\n",
    "        \n",
    "        print(\"Setting Up Test Images and Labels\")\n",
    "        \n",
    "        # Vertically stacks the test images\n",
    "        self.test_images = test_data/255\n",
    "        self.test_len = test_data.shape[0]\n",
    "        \n",
    "        # One hot Encodes the test labels (e.g. [0,0,0,1,0,0,0,0,0,0])\n",
    "        self.test_labels = test_labels.astype(np.int32)\n",
    "        \n",
    "    def resetBatch(self):\n",
    "        '''\n",
    "        reset all the indice of the data loader\n",
    "        '''\n",
    "        self.i = 0\n",
    "        self.epochs = 0\n",
    "        self._endBatch = False\n",
    "        self.i_test = 0\n",
    "\n",
    "        \n",
    "    def next_batch_train(self, batch_size):\n",
    "        ''' \n",
    "        retrieve the test batch, return the data, label and the current epoch\n",
    "        '''\n",
    "        if self._endBatch:\n",
    "            self.i = 0\n",
    "            self.epochs += 1\n",
    "            self._endBatch = False\n",
    "            \n",
    "        nextIdx  = self.i+batch_size\n",
    "        if nextIdx >= self.train_len:\n",
    "            self._endBatch = True\n",
    "            x = self.training_images[self.i:,:,:,:]\n",
    "            y = self.training_labels[self.i:,:]\n",
    "        else:\n",
    "            x = self.training_images[self.i:nextIdx,:,:,:]\n",
    "            y = self.training_labels[self.i:nextIdx,:]\n",
    "            self.i = nextIdx\n",
    "        return x, y.reshape(-1), self.epochs\n",
    "    \n",
    "    def next_batch_test(self, batch_size):\n",
    "        ''' \n",
    "        retrieve the test batch, return the data, label and flag to determine \n",
    "        if the batch has reached the end of test data\n",
    "        '''\n",
    "        _endData = False\n",
    "        nextIdx  = self.i_test + batch_size\n",
    "        #print(\"self.i_test={}\".format(self.i_test))\n",
    "        if nextIdx >= self.test_len:\n",
    "            x = self.test_images[self.i_test:,:,:,:]\n",
    "            y = self.test_labels[self.i_test:,:]\n",
    "            _endData = True\n",
    "            self.i_test = 0\n",
    "        else:\n",
    "            x = self.test_images[self.i_test:nextIdx,:,:,:]\n",
    "            y = self.test_labels[self.i_test:nextIdx,:]\n",
    "            self.i_test = nextIdx\n",
    "        return x, y.reshape(-1), _endData"
   ]
  },
  {
   "cell_type": "markdown",
   "metadata": {},
   "source": [
    "** How to use the above code: **"
   ]
  },
  {
   "cell_type": "code",
   "execution_count": 16,
   "metadata": {},
   "outputs": [
    {
     "name": "stdout",
     "output_type": "stream",
     "text": [
      "Setting Up Training Images and Labels\n",
      "Setting Up Test Images and Labels\n"
     ]
    }
   ],
   "source": [
    "# Before Your tf.Session run these two lines\n",
    "ch = CifarHelper()\n",
    "ch.set_up_images()\n",
    "\n",
    "# During your session to grab the next batch use this line\n",
    "# (Just like we did for mnist.train.next_batch)\n",
    "# batch = ch.next_batch(100)"
   ]
  },
  {
   "cell_type": "code",
   "execution_count": 17,
   "metadata": {},
   "outputs": [
    {
     "name": "stdout",
     "output_type": "stream",
     "text": [
      "x.shape=(10001, 32, 32, 3), y.shape=(10001,),ch.i=10001,epoch=0\n",
      "x.shape=(10001, 32, 32, 3), y.shape=(10001,),ch.i=20002,epoch=0\n",
      "x.shape=(10001, 32, 32, 3), y.shape=(10001,),ch.i=30003,epoch=0\n",
      "x.shape=(10001, 32, 32, 3), y.shape=(10001,),ch.i=40004,epoch=0\n",
      "x.shape=(9996, 32, 32, 3), y.shape=(9996,),ch.i=40004,epoch=0\n",
      "x.shape=(10001, 32, 32, 3), y.shape=(10001,),ch.i=10001,epoch=1\n",
      "x.shape=(10001, 32, 32, 3), y.shape=(10001,),ch.i=20002,epoch=1\n",
      "x.shape=(10001, 32, 32, 3), y.shape=(10001,),ch.i=30003,epoch=1\n",
      "x.shape=(10001, 32, 32, 3), y.shape=(10001,),ch.i=40004,epoch=1\n",
      "x.shape=(9996, 32, 32, 3), y.shape=(9996,),ch.i=40004,epoch=1\n"
     ]
    }
   ],
   "source": [
    "for i in range(10):\n",
    "    x,y, epoch = ch.next_batch_train(10001)\n",
    "    print \"x.shape={}, y.shape={},ch.i={},epoch={}\".format(x.shape,y.shape,ch.i,epoch)"
   ]
  },
  {
   "cell_type": "code",
   "execution_count": 18,
   "metadata": {},
   "outputs": [
    {
     "name": "stdout",
     "output_type": "stream",
     "text": [
      "x.shape=(5000, 32, 32, 3), y.shape=(5000,),ch.i_test=5000,ch.epochs=1\n",
      "x.shape=(5000, 32, 32, 3), y.shape=(5000,),ch.i_test=0,ch.epochs=1\n"
     ]
    }
   ],
   "source": [
    "#test the next_batch_test function \n",
    "for i in range(10):\n",
    "    x,y, endTest = ch.next_batch_test(5000)\n",
    "    print \"x.shape={}, y.shape={},ch.i_test={},ch.epochs={}\".format(x.shape,y.shape,ch.i_test,ch.epochs)\n",
    "    if endTest:\n",
    "        break"
   ]
  },
  {
   "cell_type": "code",
   "execution_count": 19,
   "metadata": {
    "collapsed": true
   },
   "outputs": [],
   "source": [
    "ch.resetBatch()"
   ]
  },
  {
   "cell_type": "markdown",
   "metadata": {},
   "source": [
    "## Creating the Model\n",
    "\n",
    "** Import tensorflow **"
   ]
  },
  {
   "cell_type": "code",
   "execution_count": 20,
   "metadata": {},
   "outputs": [
    {
     "name": "stdout",
     "output_type": "stream",
     "text": [
      "Couldn't import dot_parser, loading of dot files will not be possible.\n"
     ]
    }
   ],
   "source": [
    "import tensorflow as tf"
   ]
  },
  {
   "cell_type": "markdown",
   "metadata": {},
   "source": [
    "** Create 2 placeholders, x and y_true. Their shapes should be: **\n",
    "\n",
    "* x shape = [None,32,32,3]\n",
    "* y_true shape = [None,10]\n"
   ]
  },
  {
   "cell_type": "code",
   "execution_count": 21,
   "metadata": {
    "collapsed": true
   },
   "outputs": [],
   "source": [
    "x = tf.placeholder(dtype=tf.float32,shape=[None,32,32,3])\n",
    "y = tf.placeholder(dtype=tf.int32,shape=[None])\n",
    "y_one_hot = tf.one_hot(y,depth=10)"
   ]
  },
  {
   "cell_type": "markdown",
   "metadata": {},
   "source": [
    "** Create one more placeholder called hold_prob. No need for shape here. This placeholder will just hold a single probability for the dropout. **"
   ]
  },
  {
   "cell_type": "code",
   "execution_count": 22,
   "metadata": {
    "collapsed": true
   },
   "outputs": [],
   "source": [
    "hold_prob = tf.placeholder(dtype=tf.float32)"
   ]
  },
  {
   "cell_type": "markdown",
   "metadata": {},
   "source": [
    "### Helper Functions\n",
    "\n",
    "** Grab the helper functions from MNIST with CNN (or recreate them here yourself for a hard challenge!). You'll need: **\n",
    "\n",
    "* init_weights\n",
    "* init_bias\n",
    "* conv2d\n",
    "* max_pool_2by2\n",
    "* convolutional_layer\n",
    "* normal_full_layer"
   ]
  },
  {
   "cell_type": "code",
   "execution_count": null,
   "metadata": {
    "collapsed": true
   },
   "outputs": [],
   "source": []
  },
  {
   "cell_type": "markdown",
   "metadata": {},
   "source": [
    "### Create the Layers\n",
    "\n",
    "** Create a convolutional layer and a pooling layer as we did for MNIST. **\n",
    "** Its up to you what the 2d size of the convolution should be, but the last two digits need to be 3 and 32 because of the 3 color channels and 32 pixels. So for example you could use:**\n",
    "\n",
    "        convo_1 = convolutional_layer(x,shape=[4,4,3,32])"
   ]
  },
  {
   "cell_type": "code",
   "execution_count": 23,
   "metadata": {
    "collapsed": true
   },
   "outputs": [],
   "source": [
    "with tf.name_scope('conv1'):\n",
    "    # conv input[32,32,3] -> output [32,32,32]\n",
    "    w = tf.Variable(initial_value=tf.truncated_normal([5,5,3,32],stddev=0.1,mean=0),name='w')\n",
    "    b = tf.Variable(initial_value=tf.zeros(shape=[32]),name='b')\n",
    "    logits = tf.nn.conv2d(x,filter=w,strides=[1,1,1,1],padding='SAME',name='conv')\n",
    "    logits = tf.add(logits,b,name='add')\n",
    "    logits = tf.nn.relu(logits,name='relu')\n",
    "\n",
    "    # pool input [32,32,32] -> output [16,16,32]\n",
    "    logits = tf.nn.max_pool(logits,ksize=[1, 2, 2, 1],strides=[1, 2, 2, 1], padding='SAME',name='max_pool')"
   ]
  },
  {
   "cell_type": "markdown",
   "metadata": {},
   "source": [
    "** Create the next convolutional and pooling layers.  The last two dimensions of the convo_2 layer should be 32,64 **"
   ]
  },
  {
   "cell_type": "code",
   "execution_count": 24,
   "metadata": {
    "collapsed": true
   },
   "outputs": [],
   "source": [
    "with tf.name_scope('conv2'):\n",
    "    # conv input[16,16,32] -> output [16,16,64]\n",
    "    w = tf.Variable(initial_value=tf.truncated_normal([5,5,32,64],stddev=0.1,mean=0),name='w')\n",
    "    b = tf.Variable(initial_value=tf.zeros(shape=[64]),name='b')\n",
    "    logits = tf.nn.conv2d(logits,filter=w,strides=[1,1,1,1],padding='SAME',name='conv')\n",
    "    logits = tf.add(logits,b,name='add')\n",
    "    logits = tf.nn.relu(logits,name='relu')\n",
    "\n",
    "    # pool input [16,16,64] -> output [8,8,64]\n",
    "    logits = tf.nn.max_pool(logits,ksize=[1, 2, 2, 1],strides=[1, 2, 2, 1], padding='SAME',name='max_pool')\n",
    "\n",
    "\n"
   ]
  },
  {
   "cell_type": "markdown",
   "metadata": {},
   "source": [
    "** Now create a flattened layer by reshaping the pooling layer into [-1,8 \\* 8 \\* 64] or [-1,4096] **"
   ]
  },
  {
   "cell_type": "code",
   "execution_count": 25,
   "metadata": {
    "collapsed": true
   },
   "outputs": [],
   "source": [
    "#flatten layer input [8,8,64] -> output [-1,8*8*64]\n",
    "logits = tf.reshape(logits,shape=[-1,4096],name='flatten')"
   ]
  },
  {
   "cell_type": "code",
   "execution_count": 26,
   "metadata": {
    "collapsed": true
   },
   "outputs": [],
   "source": [
    "with tf.name_scope('fc1'):\n",
    "    # #fc layer input [4096] -> output [1024]\n",
    "    w = tf.Variable(initial_value=tf.truncated_normal([4096,1024],stddev=0.1,mean=0),name='w')\n",
    "    b = tf.Variable(initial_value=tf.zeros(shape=[1]),name='b')\n",
    "    logits = tf.add(tf.matmul(logits,w,name=\"mul\"),b,name='add')\n",
    "    logits = tf.nn.relu(logits,name='relu')"
   ]
  },
  {
   "cell_type": "markdown",
   "metadata": {},
   "source": [
    "** Create a new full layer using the normal_full_layer function and passing in your flattend convolutional 2 layer with size=1024. (You could also choose to reduce this to something like 512)**"
   ]
  },
  {
   "cell_type": "code",
   "execution_count": 27,
   "metadata": {
    "collapsed": true
   },
   "outputs": [],
   "source": [
    "with tf.name_scope('fc2'):\n",
    "    # #fc layer input [1024] -> output [512]\n",
    "    w = tf.Variable(initial_value=tf.truncated_normal([1024,512],stddev=0.1,mean=0),name='w')\n",
    "    b = tf.Variable(initial_value=tf.zeros(shape=[1]),name='b')\n",
    "    logits = tf.add(tf.matmul(logits,w,name=\"mul\"),b,name='add')\n",
    "    logits = tf.nn.relu(logits,name='relu')"
   ]
  },
  {
   "cell_type": "markdown",
   "metadata": {},
   "source": [
    "** Now create the dropout layer with tf.nn.dropout, remember to pass in your hold_prob placeholder. **"
   ]
  },
  {
   "cell_type": "code",
   "execution_count": 28,
   "metadata": {
    "collapsed": true
   },
   "outputs": [],
   "source": [
    "#dropout\n",
    "logits = tf.nn.dropout(logits,keep_prob=hold_prob,name='dropout')"
   ]
  },
  {
   "cell_type": "markdown",
   "metadata": {},
   "source": [
    "** Finally set the output to y_pred by passing in the dropout layer into the normal_full_layer function. The size should be 10 because of the 10 possible labels**"
   ]
  },
  {
   "cell_type": "code",
   "execution_count": 29,
   "metadata": {
    "collapsed": true
   },
   "outputs": [],
   "source": [
    "#fc layer input [512] -> output [10]\n",
    "with tf.name_scope('classification'):\n",
    "    # #fc layer input [512] -> output [10]\n",
    "    w = tf.Variable(initial_value=tf.truncated_normal([512,10],stddev=0.1,mean=0),name='w')\n",
    "    b = tf.Variable(initial_value=tf.zeros(shape=[1]),name='b')\n",
    "    logits = tf.add(tf.matmul(logits,w,name=\"mul\"),b,name='add')"
   ]
  },
  {
   "cell_type": "markdown",
   "metadata": {},
   "source": [
    "### Loss Function\n",
    "\n",
    "** Create a cross_entropy loss function **"
   ]
  },
  {
   "cell_type": "code",
   "execution_count": 30,
   "metadata": {
    "collapsed": true
   },
   "outputs": [],
   "source": [
    "cross_ent = tf.reduce_mean(tf.nn.softmax_cross_entropy_with_logits_v2(logits=logits,labels=y_one_hot))"
   ]
  },
  {
   "cell_type": "markdown",
   "metadata": {},
   "source": [
    "### Optimizer\n",
    "** Create the optimizer using an Adam Optimizer. **"
   ]
  },
  {
   "cell_type": "code",
   "execution_count": 31,
   "metadata": {
    "collapsed": true
   },
   "outputs": [],
   "source": [
    "optimizer = tf.train.AdamOptimizer(learning_rate=0.001)\n",
    "trainer = optimizer.minimize(cross_ent)"
   ]
  },
  {
   "cell_type": "markdown",
   "metadata": {},
   "source": [
    "** Create Evaluator. **"
   ]
  },
  {
   "cell_type": "code",
   "execution_count": 32,
   "metadata": {
    "collapsed": true
   },
   "outputs": [],
   "source": [
    "pred = tf.argmax(tf.nn.softmax(logits),axis=1)\n",
    "acc = tf.reduce_mean(tf.cast(tf.equal(tf.cast(pred,dtype=tf.float32),tf.cast(y,dtype=tf.float32)),dtype=tf.float32))"
   ]
  },
  {
   "cell_type": "markdown",
   "metadata": {},
   "source": [
    "** Create a variable to intialize all the global tf variables. **"
   ]
  },
  {
   "cell_type": "code",
   "execution_count": 33,
   "metadata": {
    "collapsed": true
   },
   "outputs": [],
   "source": [
    "init = tf.global_variables_initializer()"
   ]
  },
  {
   "cell_type": "markdown",
   "metadata": {},
   "source": [
    "## Graph Session\n",
    "\n",
    "** Perform the training and test print outs in a Tf session and run your model! **"
   ]
  },
  {
   "cell_type": "code",
   "execution_count": 34,
   "metadata": {},
   "outputs": [
    {
     "name": "stdout",
     "output_type": "stream",
     "text": [
      "Acc @iteration0 @epoch 0 is 0.114599999785...\n",
      "Acc @iteration1000 @epoch 2 is 0.152600000724...\n",
      "Acc @iteration2000 @epoch 4 is 0.146100000367...\n",
      "Acc @iteration3000 @epoch 6 is 0.141600000262...\n",
      "Acc @iteration4000 @epoch 8 is 0.159500000551...\n",
      "Acc @iteration5000 @epoch 10 is 0.161000000089...\n"
     ]
    }
   ],
   "source": [
    "ch.resetBatch()\n",
    "NUM_EPOCHS = 10\n",
    "BATCH_SIZE = 100\n",
    "current_epoch, next_epoch = 0, 1\n",
    "step = 0\n",
    "with tf.Session() as sess:\n",
    "    sess.run(init)\n",
    "    while(current_epoch < NUM_EPOCHS):\n",
    "        x_train, y_train, current_epoch = ch.next_batch_train(BATCH_SIZE)\n",
    "        sess.run([trainer],feed_dict={x:x_train,y:y_train,hold_prob:1.0})\n",
    "        \n",
    "        #if current_epoch == next_epoch:\n",
    "        if step%1000 == 0:\n",
    "            endTestBatch = False\n",
    "            test_acc = 0\n",
    "            count = 0\n",
    "            while(not endTestBatch):\n",
    "                x_test, y_test, endTestBatch = ch.next_batch_test(BATCH_SIZE)\n",
    "                acc_val = sess.run([acc],feed_dict={x:x_test,y:y_test,hold_prob:1.0})\n",
    "                test_acc += acc_val[0]*x_test.shape[0]\n",
    "                count += x_test.shape[0]\n",
    "            test_acc /= count\n",
    "            print(\"Acc @iteration{} @epoch {} is {}...\".format(step,current_epoch,test_acc))\n",
    "            next_epoch += 1\n",
    "        step += 1\n"
   ]
  }
 ],
 "metadata": {
  "kernelspec": {
   "display_name": "Python 2",
   "language": "python",
   "name": "python2"
  },
  "language_info": {
   "codemirror_mode": {
    "name": "ipython",
    "version": 2
   },
   "file_extension": ".py",
   "mimetype": "text/x-python",
   "name": "python",
   "nbconvert_exporter": "python",
   "pygments_lexer": "ipython2",
   "version": "2.7.6"
  }
 },
 "nbformat": 4,
 "nbformat_minor": 2
}
