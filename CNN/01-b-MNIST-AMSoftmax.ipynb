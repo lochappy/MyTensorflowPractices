{
 "cells": [
  {
   "cell_type": "markdown",
   "metadata": {},
   "source": [
    "# LeNet Lab\n",
    "![LeNet Architecture](lenet.png)\n",
    "Source: Yan LeCun"
   ]
  },
  {
   "cell_type": "markdown",
   "metadata": {},
   "source": [
    "## Load Data\n",
    "\n",
    "Load the MNIST data, which comes pre-loaded with TensorFlow.\n",
    "\n",
    "You do not need to modify this section."
   ]
  },
  {
   "cell_type": "code",
   "execution_count": 1,
   "metadata": {},
   "outputs": [
    {
     "name": "stdout",
     "output_type": "stream",
     "text": [
      "Extracting MNIST_data/train-images-idx3-ubyte.gz\n",
      "Extracting MNIST_data/train-labels-idx1-ubyte.gz\n",
      "Extracting MNIST_data/t10k-images-idx3-ubyte.gz\n",
      "Extracting MNIST_data/t10k-labels-idx1-ubyte.gz\n",
      "()\n",
      "Image Shape: (28, 28, 1)\n",
      "()\n",
      "Training Set:   55000 samples\n",
      "Validation Set: 5000 samples\n",
      "Test Set:       10000 samples\n"
     ]
    }
   ],
   "source": [
    "from tensorflow.examples.tutorials.mnist import input_data\n",
    "\n",
    "mnist = input_data.read_data_sets(\"MNIST_data/\", reshape=False)\n",
    "X_train, y_train           = mnist.train.images, mnist.train.labels\n",
    "X_validation, y_validation = mnist.validation.images, mnist.validation.labels\n",
    "X_test, y_test             = mnist.test.images, mnist.test.labels\n",
    "\n",
    "assert(len(X_train) == len(y_train))\n",
    "assert(len(X_validation) == len(y_validation))\n",
    "assert(len(X_test) == len(y_test))\n",
    "\n",
    "print()\n",
    "print(\"Image Shape: {}\".format(X_train[0].shape))\n",
    "print()\n",
    "print(\"Training Set:   {} samples\".format(len(X_train)))\n",
    "print(\"Validation Set: {} samples\".format(len(X_validation)))\n",
    "print(\"Test Set:       {} samples\".format(len(X_test)))"
   ]
  },
  {
   "cell_type": "markdown",
   "metadata": {},
   "source": [
    "The MNIST data that TensorFlow pre-loads comes as 28x28x1 images.\n",
    "\n",
    "However, the LeNet architecture only accepts 32x32xC images, where C is the number of color channels.\n",
    "\n",
    "In order to reformat the MNIST data into a shape that LeNet will accept, we pad the data with two rows of zeros on the top and bottom, and two columns of zeros on the left and right (28+2+2 = 32).\n",
    "\n",
    "You do not need to modify this section."
   ]
  },
  {
   "cell_type": "code",
   "execution_count": 2,
   "metadata": {},
   "outputs": [
    {
     "name": "stdout",
     "output_type": "stream",
     "text": [
      "Updated Image Shape: (32, 32, 1)\n"
     ]
    }
   ],
   "source": [
    "import numpy as np\n",
    "\n",
    "# Pad images with 0s\n",
    "X_train      = np.pad(X_train, ((0,0),(2,2),(2,2),(0,0)), 'constant')\n",
    "X_validation = np.pad(X_validation, ((0,0),(2,2),(2,2),(0,0)), 'constant')\n",
    "X_test       = np.pad(X_test, ((0,0),(2,2),(2,2),(0,0)), 'constant')\n",
    "    \n",
    "print(\"Updated Image Shape: {}\".format(X_train[0].shape))"
   ]
  },
  {
   "cell_type": "markdown",
   "metadata": {},
   "source": [
    "## Visualize Data\n",
    "\n",
    "View a sample from the dataset.\n",
    "\n",
    "You do not need to modify this section."
   ]
  },
  {
   "cell_type": "code",
   "execution_count": 3,
   "metadata": {},
   "outputs": [
    {
     "name": "stdout",
     "output_type": "stream",
     "text": [
      "9\n"
     ]
    },
    {
     "data": {
      "image/png": "[encoded data removed]",
      "text/plain": [
       "<matplotlib.figure.Figure at 0x119702a50>"
      ]
     },
     "metadata": {},
     "output_type": "display_data"
    }
   ],
   "source": [
    "import random\n",
    "import numpy as np\n",
    "import matplotlib.pyplot as plt\n",
    "%matplotlib inline\n",
    "\n",
    "index = random.randint(0, len(X_train))\n",
    "image = X_train[index].squeeze()\n",
    "\n",
    "plt.figure(figsize=(1,1))\n",
    "plt.imshow(image, cmap=\"gray\")\n",
    "print(y_train[index])"
   ]
  },
  {
   "cell_type": "markdown",
   "metadata": {},
   "source": [
    "## Preprocess Data\n",
    "\n",
    "Shuffle the training data.\n",
    "\n",
    "You do not need to modify this section."
   ]
  },
  {
   "cell_type": "code",
   "execution_count": 4,
   "metadata": {},
   "outputs": [],
   "source": [
    "from sklearn.utils import shuffle\n",
    "\n",
    "X_train, y_train = shuffle(X_train, y_train)"
   ]
  },
  {
   "cell_type": "markdown",
   "metadata": {},
   "source": [
    "## Setup TensorFlow\n",
    "The `EPOCH` and `BATCH_SIZE` values affect the training speed and model accuracy.\n",
    "\n",
    "You do not need to modify this section."
   ]
  },
  {
   "cell_type": "code",
   "execution_count": 5,
   "metadata": {},
   "outputs": [],
   "source": [
    "import tensorflow as tf\n",
    "\n",
    "EPOCHS = 20\n",
    "BATCH_SIZE = 128"
   ]
  },
  {
   "cell_type": "markdown",
   "metadata": {},
   "source": [
    "## TODO: Implement LeNet-5\n",
    "Implement the [LeNet-5](http://yann.lecun.com/exdb/lenet/) neural network architecture.\n",
    "\n",
    "This is the only cell you need to edit.\n",
    "### Input\n",
    "The LeNet architecture accepts a 32x32xC image as input, where C is the number of color channels. Since MNIST images are grayscale, C is 1 in this case.\n",
    "\n",
    "### Architecture\n",
    "**Layer 1: Convolutional.** The output shape should be 28x28x6.\n",
    "\n",
    "**Activation.** Your choice of activation function.\n",
    "\n",
    "**Pooling.** The output shape should be 14x14x6.\n",
    "\n",
    "**Layer 2: Convolutional.** The output shape should be 10x10x16.\n",
    "\n",
    "**Activation.** Your choice of activation function.\n",
    "\n",
    "**Pooling.** The output shape should be 5x5x16.\n",
    "\n",
    "**Flatten.** Flatten the output shape of the final pooling layer such that it's 1D instead of 3D. The easiest way to do is by using `tf.contrib.layers.flatten`, which is already imported for you.\n",
    "\n",
    "**Layer 3: Fully Connected.** This should have 120 outputs.\n",
    "\n",
    "**Activation.** Your choice of activation function.\n",
    "\n",
    "**Layer 4: Fully Connected.** This should have 84 outputs.\n",
    "\n",
    "**Activation.** Your choice of activation function.\n",
    "\n",
    "**Layer 5: Fully Connected (Logits).** This should have 10 outputs.\n",
    "\n",
    "### Output\n",
    "Return the result of the 2nd fully connected layer."
   ]
  },
  {
   "cell_type": "code",
   "execution_count": 6,
   "metadata": {},
   "outputs": [],
   "source": [
    "def LeNetFeature(x):    \n",
    "    # Arguments used for tf.truncated_normal, randomly defines variables for the weights and biases for each layer\n",
    "    mu = 0\n",
    "    sigma = 0.1\n",
    "    \n",
    "    logits = x\n",
    "    # TODO: Layer 1: Convolutional. Input = 32x32x1. Output = 28x28x6.\n",
    "    with tf.name_scope('conv1'):\n",
    "        w = tf.Variable(initial_value=tf.truncated_normal([5,5,1,6],mean=mu,stddev=sigma),name='w')\n",
    "        b = tf.Variable(initial_value=tf.zeros([6]),name='b')\n",
    "        logits = tf.add(tf.nn.conv2d(logits,filter=w,strides=[1,1,1,1],padding='VALID',name='conv'),b,name='add')\n",
    "\n",
    "        # TODO: Activation.\n",
    "        logits = tf.nn.relu(logits,name='relu')\n",
    "\n",
    "        # TODO: Pooling. Input = 28x28x6. Output = 14x14x6.\n",
    "        logits = tf.nn.max_pool(logits,ksize=[1,2,2,1],strides=[1,2,2,1],padding='SAME',name='pool')\n",
    "\n",
    "    # TODO: Layer 2: Convolutional. Output = 10x10x16.\n",
    "    with tf.name_scope('conv2'):\n",
    "        w = tf.Variable(initial_value=tf.truncated_normal([5,5,6,16],mean=mu,stddev=sigma),name='w')\n",
    "        b = tf.Variable(initial_value=tf.zeros([16]))\n",
    "        logits = tf.add(tf.nn.conv2d(logits,filter=w,strides=[1,1,1,1],padding='VALID',name='conv'),b,name='add')\n",
    "\n",
    "        # TODO: Activation.\n",
    "        logits = tf.nn.relu(logits,name='relu')\n",
    "\n",
    "        # TODO: Pooling. Input = 10x10x16. Output = 5x5x16.\n",
    "        logits = tf.nn.max_pool(logits,ksize=[1,2,2,1],strides=[1,2,2,1],padding='SAME',name='pool')\n",
    "\n",
    "    # TODO: Flatten. Input = 5x5x16. Output = 400.\n",
    "    logits = tf.reshape(logits,shape=[-1,400],name='reshape')\n",
    "    \n",
    "    # TODO: Layer 3: Fully Connected. Input = 400. Output = 120.\n",
    "    with tf.name_scope('fc1'):\n",
    "        w = tf.Variable(initial_value=tf.truncated_normal([400,120],mean=mu,stddev=sigma),name='w')\n",
    "        b = tf.Variable(initial_value=tf.zeros([120]),name='b')\n",
    "        logits = tf.add(tf.matmul(logits,w,name='mul'),b,name='add')\n",
    "    \n",
    "        # TODO: Activation.\n",
    "        logits = tf.nn.relu(logits,name='relu')\n",
    "\n",
    "    # TODO: Layer 4: Fully Connected. Input = 120. Output = 84.\n",
    "    with tf.name_scope('fc2'):\n",
    "        w = tf.Variable(initial_value=tf.truncated_normal([120,84],mean=mu,stddev=sigma),name='w')\n",
    "        b = tf.Variable(initial_value=tf.zeros([84]),name='b')\n",
    "        logits = tf.add(tf.matmul(logits,w,name='mul'),b,name='add')\n",
    "    \n",
    "        # TODO: Activation.\n",
    "        #logits = tf.nn.relu(logits,name='relu')\n",
    "        \n",
    "    return logits"
   ]
  },
  {
   "cell_type": "code",
   "execution_count": 7,
   "metadata": {},
   "outputs": [],
   "source": [
    "def cross_entropy(x,label,name='cross_entropy'):\n",
    "    with tf.name_scope(name):\n",
    "        logits = tf.log(x,name='log')\n",
    "        logits = -tf.reduce_sum(tf.multiply(label,logits,name='mul'),axis=1,name='sum')\n",
    "    return logits"
   ]
  },
  {
   "cell_type": "code",
   "execution_count": 8,
   "metadata": {},
   "outputs": [],
   "source": [
    "def add_addictive_margin(embeddingFeature,one_hot_label,scale=30.,margin=-0.35,name=\"add_addictive_margin\"):\n",
    "    '''\n",
    "        Adds margin to the embedding feature at the ground truth label if the score is less than margin.\n",
    "        Then scales up the whole embedding feature by scale s\n",
    "        The returned added_embeddingFeature is the fed to softmax to form the AM softmax\n",
    "    '''\n",
    "    with tf.name_scope(name):\n",
    "        batch_range = tf.reshape(tf.range(tf.shape(embeddingFeature)[0]),shape=(-1,1))\n",
    "        indices_of_groundtruth = tf.concat([batch_range, tf.reshape(y,shape=(-1,1))], axis=1)\n",
    "        groundtruth_score = tf.gather_nd(embeddingFeature,indices_of_groundtruth)\n",
    "\n",
    "        m = tf.constant(margin,name='m')\n",
    "        s = tf.constant(scale,name='s')\n",
    "        \n",
    "        added_margin = tf.cast(tf.greater(groundtruth_score,-m),dtype=tf.float32)*m\n",
    "        added_margin = tf.reshape(added_margin,shape=(-1,1))\n",
    "        added_embeddingFeature = tf.add(embeddingFeature,one_hot_label*added_margin)*s\n",
    "    return added_embeddingFeature"
   ]
  },
  {
   "cell_type": "markdown",
   "metadata": {},
   "source": [
    "## Features and Labels\n",
    "Train LeNet to classify [MNIST](http://yann.lecun.com/exdb/mnist/) data.\n",
    "\n",
    "`x` is a placeholder for a batch of input images.\n",
    "`y` is a placeholder for a batch of output labels.\n",
    "\n",
    "You do not need to modify this section."
   ]
  },
  {
   "cell_type": "code",
   "execution_count": 9,
   "metadata": {},
   "outputs": [],
   "source": [
    "x = tf.placeholder(tf.float32, (None, 32, 32, 1))\n",
    "y = tf.placeholder(tf.int32, (None))\n",
    "one_hot_y = tf.one_hot(y, 10)"
   ]
  },
  {
   "cell_type": "code",
   "execution_count": 10,
   "metadata": {},
   "outputs": [],
   "source": [
    "feature = LeNetFeature(x)\n",
    "l2norm_feature = tf.nn.l2_normalize(feature,axis=1,name=\"l2norm_feature\")\n",
    "\n",
    "# with tf.Session() as sess:\n",
    "#     sess.run(tf.global_variables_initializer())\n",
    "#     l2norm_feature_val= \\\n",
    "#     sess.run(l2norm_feature,feed_dict={x:X_train[0:3],y:y_train[0:3]})\n",
    "# print np.sum(l2norm_feature_val[0,:]**2)"
   ]
  },
  {
   "cell_type": "code",
   "execution_count": 11,
   "metadata": {},
   "outputs": [],
   "source": [
    "with tf.name_scope('embeding_space'):\n",
    "    weight = tf.Variable(initial_value=tf.truncated_normal([84,10],mean=0.,stddev=0.1),name='w')\n",
    "    l2norm_weight = tf.nn.l2_normalize(weight,axis=0,name=\"l2norm_embedding_space\")\n",
    "    \n",
    "# with tf.Session() as sess:\n",
    "#     sess.run(tf.global_variables_initializer())\n",
    "#     l2norm_weight_val= \\\n",
    "#     sess.run(l2norm_weight,feed_dict={x:X_train[0:3],y:y_train[0:3]})\n",
    "# print np.sum(l2norm_weight_val[:,0]**2)"
   ]
  },
  {
   "cell_type": "code",
   "execution_count": 12,
   "metadata": {},
   "outputs": [],
   "source": [
    "embedding_feature = tf.matmul(l2norm_feature,l2norm_weight,name='embedding_feature')"
   ]
  },
  {
   "cell_type": "code",
   "execution_count": 13,
   "metadata": {},
   "outputs": [],
   "source": [
    "addictive_embedding_feature = add_addictive_margin(embedding_feature,one_hot_y, \\\n",
    "                                                   scale=30.,margin=-0.35,name=\"add_addictive_margin\")\n",
    "# with tf.Session() as sess:\n",
    "#     sess.run(tf.global_variables_initializer())\n",
    "#     embeddingFeature_val, l2norm_embeddingFeature_val = \\\n",
    "#     sess.run([embeddingFeature,l2norm_embeddingFeature],feed_dict={x:X_train[0:3],y:y_train[0:3]})\n",
    "# print embeddingFeature_val.shape\n",
    "# print()\n",
    "# print l2norm_embeddingFeature_val.shape\n",
    "# print()"
   ]
  },
  {
   "cell_type": "markdown",
   "metadata": {},
   "source": [
    "## Training Pipeline\n",
    "Create a training pipeline that uses the model to classify MNIST data.\n",
    "\n",
    "You do not need to modify this section."
   ]
  },
  {
   "cell_type": "code",
   "execution_count": 14,
   "metadata": {},
   "outputs": [],
   "source": [
    "#collect trainable variables\n",
    "trainable_variables = tf.trainable_variables()\n",
    "trainable_weights = []\n",
    "for trainable_variable in trainable_variables:\n",
    "    if '/w' in trainable_variable.op.name:\n",
    "        trainable_weights.append(trainable_variable)"
   ]
  },
  {
   "cell_type": "code",
   "execution_count": 15,
   "metadata": {},
   "outputs": [],
   "source": [
    "rate = 0.001\n",
    "\n",
    "cross_ent = tf.nn.softmax_cross_entropy_with_logits_v2(labels=one_hot_y, logits=addictive_embedding_feature)\n",
    "loss_operation = tf.reduce_mean(cross_ent)\n",
    "\n",
    "#add l2 regulizer\n",
    "for w in trainable_weights:\n",
    "    loss_operation = loss_operation + 0.01*tf.nn.l2_loss(w)\n",
    "\n",
    "optimizer = tf.train.AdamOptimizer(learning_rate = rate)\n",
    "training_operation = optimizer.minimize(loss_operation)"
   ]
  },
  {
   "cell_type": "markdown",
   "metadata": {},
   "source": [
    "## Model Evaluation\n",
    "Evaluate how well the loss and accuracy of the model for a given dataset.\n",
    "\n",
    "You do not need to modify this section."
   ]
  },
  {
   "cell_type": "code",
   "execution_count": 16,
   "metadata": {},
   "outputs": [],
   "source": [
    "correct_prediction = tf.equal(tf.argmax(tf.nn.softmax(embedding_feature), 1), tf.argmax(one_hot_y, 1))\n",
    "accuracy_operation = tf.reduce_mean(tf.cast(correct_prediction, tf.float32))\n",
    "saver = tf.train.Saver()\n",
    "\n",
    "def evaluate(X_data, y_data):\n",
    "    num_examples = len(X_data)\n",
    "    total_accuracy = 0\n",
    "    sess = tf.get_default_session()\n",
    "    for offset in range(0, num_examples, BATCH_SIZE):\n",
    "        batch_x, batch_y = X_data[offset:offset+BATCH_SIZE], y_data[offset:offset+BATCH_SIZE]\n",
    "        accuracy = sess.run(accuracy_operation, feed_dict={x: batch_x, y: batch_y})\n",
    "        total_accuracy += (accuracy * len(batch_x))\n",
    "    return total_accuracy / num_examples"
   ]
  },
  {
   "cell_type": "markdown",
   "metadata": {},
   "source": [
    "## Train the Model\n",
    "Run the training data through the training pipeline to train the model.\n",
    "\n",
    "Before each epoch, shuffle the training set.\n",
    "\n",
    "After each epoch, measure the loss and accuracy of the validation set.\n",
    "\n",
    "Save the model after training.\n",
    "\n",
    "You do not need to modify this section."
   ]
  },
  {
   "cell_type": "code",
   "execution_count": 17,
   "metadata": {},
   "outputs": [
    {
     "name": "stdout",
     "output_type": "stream",
     "text": [
      "Training...\n",
      "EPOCH 1 : train_loss=2.442, Validation Accuracy = 0.981**Model Saved**\n",
      "EPOCH 2 : train_loss=1.476, Validation Accuracy = 0.986**Model Saved**\n",
      "EPOCH 3 : train_loss=1.070, Validation Accuracy = 0.986**Model Saved**\n",
      "EPOCH 4 : train_loss=0.843, Validation Accuracy = 0.990**Model Saved**\n",
      "EPOCH 5 : train_loss=0.714, Validation Accuracy = 0.989\n",
      "EPOCH 6 : train_loss=0.620, Validation Accuracy = 0.990\n",
      "EPOCH 7 : train_loss=0.579, Validation Accuracy = 0.991**Model Saved**\n",
      "EPOCH 8 : train_loss=0.528, Validation Accuracy = 0.989\n",
      "EPOCH 9 : train_loss=0.505, Validation Accuracy = 0.986\n",
      "EPOCH 10 : train_loss=0.476, Validation Accuracy = 0.990\n",
      "EPOCH 11 : train_loss=0.459, Validation Accuracy = 0.990\n",
      "EPOCH 12 : train_loss=0.443, Validation Accuracy = 0.990\n",
      "EPOCH 13 : train_loss=0.412, Validation Accuracy = 0.988\n",
      "EPOCH 14 : train_loss=0.403, Validation Accuracy = 0.988\n",
      "EPOCH 15 : train_loss=0.399, Validation Accuracy = 0.987\n",
      "EPOCH 16 : train_loss=0.395, Validation Accuracy = 0.989\n",
      "EPOCH 17 : train_loss=0.382, Validation Accuracy = 0.989\n",
      "EPOCH 18 : train_loss=0.357, Validation Accuracy = 0.990\n",
      "EPOCH 19 : train_loss=0.354, Validation Accuracy = 0.989\n",
      "EPOCH 20 : train_loss=0.350, Validation Accuracy = 0.990\n",
      "Training was done.\n"
     ]
    }
   ],
   "source": [
    "with tf.Session() as sess:\n",
    "    sess.run(tf.global_variables_initializer())\n",
    "    num_examples = len(X_train)\n",
    "    \n",
    "    print(\"Training...\")\n",
    "    max_validation_accuracy = 0\n",
    "    for i in range(EPOCHS):\n",
    "        X_train, y_train = shuffle(X_train, y_train)\n",
    "        total_loss = 0\n",
    "        for offset in range(0, num_examples, BATCH_SIZE):\n",
    "            end = offset + BATCH_SIZE\n",
    "            if end > len(y_train):\n",
    "                batch_x, batch_y = X_train[offset:], y_train[offset:]\n",
    "            else:\n",
    "                batch_x, batch_y = X_train[offset:end], y_train[offset:end]\n",
    "            _, loss_val = sess.run([training_operation,loss_operation], feed_dict={x: batch_x, y: batch_y})\n",
    "            total_loss += loss_val*len(batch_y)\n",
    "        total_loss = total_loss/len(y_train)\n",
    "        \n",
    "        validation_accuracy = evaluate(X_validation, y_validation)\n",
    "        #save the model with the best accuracy in validation set\n",
    "        if validation_accuracy > max_validation_accuracy:\n",
    "            saver.save(sess, './lenet')\n",
    "            max_validation_accuracy = validation_accuracy\n",
    "            print(\"EPOCH {} : train_loss={:.3f}, Validation Accuracy = {:.3f}**Model Saved**\".format(i+1,total_loss,validation_accuracy))\n",
    "        else:\n",
    "            print(\"EPOCH {} : train_loss={:.3f}, Validation Accuracy = {:.3f}\".format(i+1,total_loss,validation_accuracy))\n",
    "    print(\"Training was done.\")"
   ]
  },
  {
   "cell_type": "markdown",
   "metadata": {},
   "source": [
    "## Evaluate the Model\n",
    "Once you are completely satisfied with your model, evaluate the performance of the model on the test set.\n",
    "\n",
    "Be sure to only do this once!\n",
    "\n",
    "If you were to measure the performance of your trained model on the test set, then improve your model, and then measure the performance of your model on the test set again, that would invalidate your test results. You wouldn't get a true measure of how well your model would perform against real data.\n",
    "\n",
    "You do not need to modify this section."
   ]
  },
  {
   "cell_type": "code",
   "execution_count": 18,
   "metadata": {},
   "outputs": [
    {
     "name": "stdout",
     "output_type": "stream",
     "text": [
      "INFO:tensorflow:Restoring parameters from ./lenet\n",
      "Test Accuracy = 0.992\n"
     ]
    }
   ],
   "source": [
    "with tf.Session() as sess:\n",
    "    saver.restore(sess, tf.train.latest_checkpoint('.'))\n",
    "\n",
    "    test_accuracy = evaluate(X_test, y_test)\n",
    "    print(\"Test Accuracy = {:.3f}\".format(test_accuracy))"
   ]
  }
 ],
 "metadata": {
  "anaconda-cloud": {},
  "kernelspec": {
   "display_name": "Python 2",
   "language": "python",
   "name": "python2"
  },
  "language_info": {
   "codemirror_mode": {
    "name": "ipython",
    "version": 2
   },
   "file_extension": ".py",
   "mimetype": "text/x-python",
   "name": "python",
   "nbconvert_exporter": "python",
   "pygments_lexer": "ipython2",
   "version": "2.7.10"
  },
  "widgets": {
   "state": {},
   "version": "1.1.2"
  }
 },
 "nbformat": 4,
 "nbformat_minor": 1
}
